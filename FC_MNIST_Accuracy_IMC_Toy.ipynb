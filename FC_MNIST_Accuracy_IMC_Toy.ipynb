{
 "cells": [
  {
   "attachments": {},
   "cell_type": "markdown",
   "metadata": {},
   "source": [
    "# FullyConnected on MNIST (Accuracy, Implicit Model Calibration, Toy Knowledge Distillation)"
   ]
  },
  {
   "cell_type": "markdown",
   "metadata": {},
   "source": [
    "### Imports and Setup"
   ]
  },
  {
   "cell_type": "code",
   "execution_count": 1,
   "metadata": {},
   "outputs": [],
   "source": [
    "# PyTorch and Models\n",
    "import torch\n",
    "import torch.nn as nn\n",
    "import torch.optim as optim\n",
    "from torch.optim.lr_scheduler import LinearLR\n",
    "from architectures.FullyConnected import FullyConnected\n",
    "\n",
    "# Helper functions\n",
    "import datasets.datasets as datasets\n",
    "from util.common import *\n",
    "from util.trainer import distillation_training"
   ]
  },
  {
   "cell_type": "code",
   "execution_count": 2,
   "metadata": {},
   "outputs": [],
   "source": [
    "# Make PyTorch deterministic\n",
    "torch.manual_seed(0)\n",
    "torch.backends.cudnn.benchmark = False\n",
    "torch.backends.cudnn.deterministic = True\n",
    "\n",
    "# Set device\n",
    "device = torch.device('cuda' if torch.cuda.is_available() else 'cpu')"
   ]
  },
  {
   "cell_type": "markdown",
   "metadata": {},
   "source": [
    "### Load Data, Training and Test Sets"
   ]
  },
  {
   "cell_type": "code",
   "execution_count": 3,
   "metadata": {},
   "outputs": [
    {
     "name": "stdout",
     "output_type": "stream",
     "text": [
      "Downloading http://yann.lecun.com/exdb/mnist/train-images-idx3-ubyte.gz\n",
      "Downloading http://yann.lecun.com/exdb/mnist/train-images-idx3-ubyte.gz to ./data\\MNIST\\raw\\train-images-idx3-ubyte.gz\n"
     ]
    },
    {
     "name": "stderr",
     "output_type": "stream",
     "text": [
      "100%|██████████| 9912422/9912422 [00:01<00:00, 6053508.94it/s]\n"
     ]
    },
    {
     "name": "stdout",
     "output_type": "stream",
     "text": [
      "Extracting ./data\\MNIST\\raw\\train-images-idx3-ubyte.gz to ./data\\MNIST\\raw\n",
      "\n",
      "Downloading http://yann.lecun.com/exdb/mnist/train-labels-idx1-ubyte.gz\n",
      "Downloading http://yann.lecun.com/exdb/mnist/train-labels-idx1-ubyte.gz to ./data\\MNIST\\raw\\train-labels-idx1-ubyte.gz\n"
     ]
    },
    {
     "name": "stderr",
     "output_type": "stream",
     "text": [
      "100%|██████████| 28881/28881 [00:00<00:00, 54491990.02it/s]\n"
     ]
    },
    {
     "name": "stdout",
     "output_type": "stream",
     "text": [
      "Extracting ./data\\MNIST\\raw\\train-labels-idx1-ubyte.gz to ./data\\MNIST\\raw\n",
      "\n",
      "Downloading http://yann.lecun.com/exdb/mnist/t10k-images-idx3-ubyte.gz\n",
      "Downloading http://yann.lecun.com/exdb/mnist/t10k-images-idx3-ubyte.gz to ./data\\MNIST\\raw\\t10k-images-idx3-ubyte.gz\n"
     ]
    },
    {
     "name": "stderr",
     "output_type": "stream",
     "text": [
      "100%|██████████| 1648877/1648877 [00:00<00:00, 6464706.59it/s]\n"
     ]
    },
    {
     "name": "stdout",
     "output_type": "stream",
     "text": [
      "Extracting ./data\\MNIST\\raw\\t10k-images-idx3-ubyte.gz to ./data\\MNIST\\raw\n",
      "\n",
      "Downloading http://yann.lecun.com/exdb/mnist/t10k-labels-idx1-ubyte.gz\n",
      "Downloading http://yann.lecun.com/exdb/mnist/t10k-labels-idx1-ubyte.gz to ./data\\MNIST\\raw\\t10k-labels-idx1-ubyte.gz\n"
     ]
    },
    {
     "name": "stderr",
     "output_type": "stream",
     "text": [
      "100%|██████████| 4542/4542 [00:00<00:00, 8512300.61it/s]\n"
     ]
    },
    {
     "name": "stdout",
     "output_type": "stream",
     "text": [
      "Extracting ./data\\MNIST\\raw\\t10k-labels-idx1-ubyte.gz to ./data\\MNIST\\raw\n",
      "\n"
     ]
    }
   ],
   "source": [
    "# Loading dataset into training and test data\n",
    "training_loader = datasets.mnist_training_loader(True)\n",
    "dist_training_loader = datasets.mnist_training_loader(False)\n",
    "test_loader = datasets.mnist_test_loader()"
   ]
  },
  {
   "cell_type": "code",
   "execution_count": 4,
   "metadata": {},
   "outputs": [
    {
     "data": {
      "image/png": "[encoded data removed]",
      "text/plain": [
       "<Figure size 640x480 with 4 Axes>"
      ]
     },
     "metadata": {},
     "output_type": "display_data"
    }
   ],
   "source": [
    "# Some sample images from the dataset\n",
    "show_images (datasets.mnist_training_dataset(True), 4, 'Sample Images from Transformed MNIST')"
   ]
  },
  {
   "attachments": {},
   "cell_type": "markdown",
   "metadata": {},
   "source": [
    "### Distillation training loop"
   ]
  },
  {
   "cell_type": "code",
   "execution_count": 5,
   "metadata": {},
   "outputs": [],
   "source": [
    "def train_distillation(teacher, student, device, training_loader, test_loader, epochs, beta, temperature=1):\n",
    "    cross_entropy = nn.CrossEntropyLoss()\n",
    "    loss = nn.MSELoss()\n",
    "    train_loss = lambda outputs, labels, pred: (1-beta)*cross_entropy(outputs, labels) + beta*0.5*loss(pred,outputs)\n",
    "    \n",
    "    opt = optim.SGD(params=[\n",
    "        {\"params\":student.linear1.parameters(), 'lr': 1},\n",
    "        {\"params\":student.linear2.parameters(), 'lr': 1},\n",
    "        {\"params\":student.linear3.parameters(), 'lr': 0.1}\n",
    "        ], momentum=0.9, dampening=0.9)\n",
    "    \n",
    "    scheduler = LinearLR(opt, 1, 0, epochs)\n",
    "    \n",
    "    distillation_training(teacher, student, device, training_loader, test_loader, epochs, train_loss, opt, scheduler, temperature)"
   ]
  },
  {
   "cell_type": "markdown",
   "metadata": {},
   "source": [
    "### Training with Distillation and Different Label Smoothing Constants"
   ]
  },
  {
   "cell_type": "code",
   "execution_count": null,
   "metadata": {},
   "outputs": [],
   "source": [
    "model_Hard = FullyConnected(1200, 0)\n",
    "model_Hard.train_model(device, training_loader, test_loader, 0, NUM_EPOCHS_FULLY_CONNECTED)\n",
    "\n",
    "torch.save(model_Hard.state_dict(), \"models/FC_MNIST_Accuracy_IMC/FullyConnected_MNIST_Hard_Labels.pt\")"
   ]
  },
  {
   "cell_type": "code",
   "execution_count": null,
   "metadata": {},
   "outputs": [],
   "source": [
    "model_teacher_Dropout = FullyConnected(1200)\n",
    "model_teacher_Dropout.train_model(device, training_loader, test_loader, 0, NUM_EPOCHS_FULLY_CONNECTED)\n",
    "\n",
    "torch.save(model_teacher_Dropout.state_dict(), \"models/FC_MNIST_Toy_Distillation/FullyConnected_Teacher_Dropout.pt\")"
   ]
  },
  {
   "cell_type": "code",
   "execution_count": null,
   "metadata": {},
   "outputs": [],
   "source": [
    "model_student = FullyConnected(800, 0)\n",
    "train_distillation(model_teacher_Dropout, model_student, device, dist_training_loader, test_loader, NUM_EPOCHS_FULLY_CONNECTED, 0.6)\n",
    "\n",
    "torch.save(model_student.state_dict(), \"models/FC_MNIST_Toy_Distillation/FullyConnected_Student_Dropout.pt\")"
   ]
  },
  {
   "cell_type": "code",
   "execution_count": null,
   "metadata": {},
   "outputs": [],
   "source": [
    "model_Smooth_1 = FullyConnected(1200, 0)\n",
    "model_Smooth_1.train_model(device, training_loader, test_loader, 0.1, NUM_EPOCHS_FULLY_CONNECTED)\n",
    "\n",
    "torch.save(model_Smooth_1.state_dict(), \"models/FC_MNIST_Accuracy_IMC/FullyConnected_MNIST_Smooth_Labels_01.pt\")\n",
    "torch.save(model_Smooth_1.state_dict(), \"models/FC_MNIST_Toy_Distillation/FullyConnected_Teacher_Smoothing.pt\")"
   ]
  },
  {
   "cell_type": "code",
   "execution_count": null,
   "metadata": {},
   "outputs": [],
   "source": [
    "model_student = FullyConnected(800, 0)\n",
    "train_distillation(model_Smooth_1, model_student, device, dist_training_loader, test_loader, NUM_EPOCHS_FULLY_CONNECTED, 0.6)\n",
    "\n",
    "torch.save(model_student.state_dict(), \"models/FC_MNIST_Toy_Distillation/FullyConnected_Student_Smoothing.pt\")"
   ]
  },
  {
   "cell_type": "code",
   "execution_count": null,
   "metadata": {},
   "outputs": [],
   "source": [
    "model_Smooth_05 = FullyConnected(1200, 0)\n",
    "model_Smooth_05.train_model(device, training_loader, test_loader, 0.05, NUM_EPOCHS_FULLY_CONNECTED)\n",
    "\n",
    "torch.save(model_Smooth_05.state_dict(), \"models/FC_MNIST_Accuracy_IMC/FullyConnected_MNIST_Smooth_Labels_005.pt\")"
   ]
  },
  {
   "cell_type": "code",
   "execution_count": null,
   "metadata": {},
   "outputs": [],
   "source": [
    "model_Smooth_15 = FullyConnected(1200, 0)\n",
    "model_Smooth_15.train_model(device, training_loader, test_loader, 0.15, NUM_EPOCHS_FULLY_CONNECTED)\n",
    "\n",
    "torch.save(model_Smooth_15.state_dict(), \"models/FC_MNIST_Accuracy_IMC/FullyConnected_MNIST_Smooth_Labels_015.pt\")"
   ]
  },
  {
   "cell_type": "code",
   "execution_count": null,
   "metadata": {},
   "outputs": [],
   "source": [
    "model_Smooth_3 = FullyConnected(1200, 0)\n",
    "model_Smooth_3.train_model(device, training_loader, test_loader, 0.3, NUM_EPOCHS_FULLY_CONNECTED)\n",
    "\n",
    "torch.save(model_Smooth_3.state_dict(), \"models/FC_MNIST_Accuracy_IMC/FullyConnected_MNIST_Smooth_Labels_03.pt\")"
   ]
  },
  {
   "cell_type": "markdown",
   "metadata": {},
   "source": [
    "### Errors and Reliabity"
   ]
  },
  {
   "cell_type": "code",
   "execution_count": 4,
   "metadata": {},
   "outputs": [
    {
     "name": "stdout",
     "output_type": "stream",
     "text": [
      "Error for teacher network not using Dropout: 0.94%\n"
     ]
    }
   ],
   "source": [
    "# Temperature for temperature scaling\n",
    "temperature = 1.06\n",
    "\n",
    "model = FullyConnected(1200, 0)\n",
    "model.load_state_dict(torch.load(f\"models/FC_MNIST_Accuracy_IMC/FullyConnected_MNIST_Hard_Labels.pt\", map_location=device))\n",
    "model.to(device)\n",
    "\n",
    "# Compute Accuracy and Reliability\n",
    "print(f\"Error for teacher network not using Dropout: {100-compute_accuracy(model, test_loader, device).cpu().item():.2f}%\")\n",
    "rel_bins_Hard = bin_reliability(model, test_loader, device, NUM_BINS)\n",
    "rel_bins_Temperature = bin_reliability(model, test_loader, device, NUM_BINS, temperature)"
   ]
  },
  {
   "cell_type": "code",
   "execution_count": 5,
   "metadata": {},
   "outputs": [
    {
     "name": "stdout",
     "output_type": "stream",
     "text": [
      "Error for teacher network using Label smoothing (alpha = 0.05): 0.67%\n"
     ]
    }
   ],
   "source": [
    "model = FullyConnected(1200)\n",
    "model.load_state_dict(torch.load(f\"models/FC_MNIST_Accuracy_IMC/FullyConnected_MNIST_Smooth_Labels_005.pt\", map_location=device))\n",
    "model.to(device)\n",
    "\n",
    "# Compute Accuracy and Reliability\n",
    "print(f\"Error for teacher network using Label smoothing (alpha = 0.05): {100-compute_accuracy(model, test_loader, device).cpu().item():.2f}%\")\n",
    "rel_bins_Smooth = bin_reliability(model, test_loader, device, NUM_BINS)"
   ]
  },
  {
   "cell_type": "code",
   "execution_count": 6,
   "metadata": {},
   "outputs": [
    {
     "name": "stdout",
     "output_type": "stream",
     "text": [
      "Error for teacher network using Label smoothing (alpha = 0.1): 0.69%\n"
     ]
    }
   ],
   "source": [
    "model = FullyConnected(1200)\n",
    "model.load_state_dict(torch.load(f\"models/FC_MNIST_Accuracy_IMC/FullyConnected_MNIST_Smooth_Labels_01.pt\", map_location=device))\n",
    "model.to(device)\n",
    "\n",
    "# Compute Accuracy and Reliability\n",
    "print(f\"Error for teacher network using Label smoothing (alpha = 0.1): {100-compute_accuracy(model, test_loader, device).cpu().item():.2f}%\")\n",
    "rel_bins_Smooth_2 = bin_reliability(model, test_loader, device, NUM_BINS)"
   ]
  },
  {
   "cell_type": "code",
   "execution_count": 7,
   "metadata": {},
   "outputs": [
    {
     "name": "stdout",
     "output_type": "stream",
     "text": [
      "Error for teacher network using Label smoothing (alpha = 0.15): 0.76%\n"
     ]
    }
   ],
   "source": [
    "model = FullyConnected(1200)\n",
    "model.load_state_dict(torch.load(f\"models/FC_MNIST_Accuracy_IMC/FullyConnected_MNIST_Smooth_Labels_015.pt\", map_location=device))\n",
    "model.to(device)\n",
    "\n",
    "# Compute Accuracy and Reliability\n",
    "print(f\"Error for teacher network using Label smoothing (alpha = 0.15): {100-compute_accuracy(model, test_loader, device).cpu().item():.2f}%\")\n",
    "rel_bins_Smooth_3 = bin_reliability(model, test_loader, device, NUM_BINS)"
   ]
  },
  {
   "cell_type": "code",
   "execution_count": 8,
   "metadata": {},
   "outputs": [
    {
     "name": "stdout",
     "output_type": "stream",
     "text": [
      "Error for teacher network using Label smoothing (alpha = 0.3): 0.87%\n"
     ]
    }
   ],
   "source": [
    "model = FullyConnected(1200)\n",
    "model.load_state_dict(torch.load(f\"models/FC_MNIST_Accuracy_IMC/FullyConnected_MNIST_Smooth_Labels_03.pt\", map_location=device))\n",
    "model.to(device)\n",
    "\n",
    "# Compute Accuracy and Reliability\n",
    "print(f\"Error for teacher network using Label smoothing (alpha = 0.3): {100-compute_accuracy(model, test_loader, device).cpu().item():.2f}%\")\n",
    "rel_bins_Smooth_4 = bin_reliability(model, test_loader, device, NUM_BINS)"
   ]
  },
  {
   "cell_type": "markdown",
   "metadata": {},
   "source": [
    "#### Compute ECE Score"
   ]
  },
  {
   "cell_type": "code",
   "execution_count": 9,
   "metadata": {},
   "outputs": [
    {
     "name": "stdout",
     "output_type": "stream",
     "text": [
      "ECE w. Hard Labels: 0.0020\n",
      "ECE w. Smooth Labels (alpha = 0.05): 0.0557\n",
      "ECE w. Smooth Labels (alpha = 0.1): 0.1020\n",
      "ECE w. Smooth Labels (alpha = 0.15): 0.1467\n",
      "ECE w. Smooth Labels (alpha = 0.3): 0.2809\n",
      "ECE w. Temperature Scaling: 0.0013\n"
     ]
    }
   ],
   "source": [
    "print(f\"ECE w. Hard Labels: {calculate_ece(rel_bins_Hard):.4f}\")\n",
    "print(f\"ECE w. Smooth Labels (alpha = 0.05): {calculate_ece(rel_bins_Smooth):.4f}\")\n",
    "print(f\"ECE w. Smooth Labels (alpha = 0.1): {calculate_ece(rel_bins_Smooth_2):.4f}\")\n",
    "print(f\"ECE w. Smooth Labels (alpha = 0.15): {calculate_ece(rel_bins_Smooth_3):.4f}\")\n",
    "print(f\"ECE w. Smooth Labels (alpha = 0.3): {calculate_ece(rel_bins_Smooth_4):.4f}\")\n",
    "print(f\"ECE w. Temperature Scaling: {calculate_ece(rel_bins_Temperature):.4f}\")"
   ]
  },
  {
   "cell_type": "markdown",
   "metadata": {},
   "source": [
    "#### Plot Reliability Diagram"
   ]
  },
  {
   "cell_type": "code",
   "execution_count": 10,
   "metadata": {},
   "outputs": [
    {
     "data": {
      "image/png": "[encoded data removed]",
      "text/plain": [
       "<Figure size 500x375 with 1 Axes>"
      ]
     },
     "metadata": {},
     "output_type": "display_data"
    }
   ],
   "source": [
    "fig = plot_reliability(rel_bins_Hard, rel_bins_Smooth, rel_bins_Temperature, temperature, 0.05)\n",
    "fig.savefig(format=\"pdf\", fname=\"figures/reliability_mnist.pdf\",bbox_inches='tight')"
   ]
  },
  {
   "cell_type": "markdown",
   "metadata": {},
   "source": [
    "### Errors for the Toy Example"
   ]
  },
  {
   "cell_type": "code",
   "execution_count": 11,
   "metadata": {},
   "outputs": [
    {
     "name": "stdout",
     "output_type": "stream",
     "text": [
      "Error for teacher network using Dropout: 0.81%\n"
     ]
    }
   ],
   "source": [
    "model = FullyConnected(1200)\n",
    "model.load_state_dict(torch.load(f\"models/FC_MNIST_Toy_Distillation/FullyConnected_Teacher_Dropout.pt\", map_location=device))\n",
    "model.to(device)\n",
    "\n",
    "print(f\"Error for teacher network using Dropout: {100-compute_accuracy(model, test_loader, device).cpu().item():.2f}%\")"
   ]
  },
  {
   "cell_type": "code",
   "execution_count": 12,
   "metadata": {},
   "outputs": [
    {
     "name": "stdout",
     "output_type": "stream",
     "text": [
      "Error for teacher network using Label smoothing (alpha = 0.1): 0.69%\n"
     ]
    }
   ],
   "source": [
    "model = FullyConnected(1200)\n",
    "model.load_state_dict(torch.load(f\"models/FC_MNIST_Toy_Distillation/FullyConnected_Teacher_Smoothing.pt\", map_location=device))\n",
    "model.to(device)\n",
    "\n",
    "print(f\"Error for teacher network using Label smoothing (alpha = 0.1): {100-compute_accuracy(model, test_loader, device).cpu().item():.2f}%\")"
   ]
  },
  {
   "cell_type": "code",
   "execution_count": 13,
   "metadata": {},
   "outputs": [
    {
     "name": "stdout",
     "output_type": "stream",
     "text": [
      "Error for student network with teacher network using Dropout: 0.93%\n"
     ]
    }
   ],
   "source": [
    "model = FullyConnected(800)\n",
    "model.load_state_dict(torch.load(f\"models/FC_MNIST_Toy_Distillation/FullyConnected_Student_Dropout.pt\", map_location=device))\n",
    "model.to(device)\n",
    "\n",
    "print(f\"Error for student network with teacher network using Dropout: {100-compute_accuracy(model, test_loader, device).cpu().item():.2f}%\")"
   ]
  },
  {
   "cell_type": "code",
   "execution_count": 14,
   "metadata": {},
   "outputs": [
    {
     "name": "stdout",
     "output_type": "stream",
     "text": [
      "Error for student network with teacher network using Label smoothing (alpha = 0.1): 1.05%\n"
     ]
    }
   ],
   "source": [
    "model = FullyConnected(800)\n",
    "model.load_state_dict(torch.load(f\"models/FC_MNIST_Toy_Distillation/FullyConnected_Student_Smoothing.pt\", map_location=device))\n",
    "model.to(device)\n",
    "\n",
    "print(f\"Error for student network with teacher network using Label smoothing (alpha = 0.1): {100-compute_accuracy(model, test_loader, device).cpu().item():.2f}%\")"
   ]
  }
 ],
 "metadata": {
  "kernelspec": {
   "display_name": "pytorch",
   "language": "python",
   "name": "python3"
  },
  "language_info": {
   "codemirror_mode": {
    "name": "ipython",
    "version": 3
   },
   "file_extension": ".py",
   "mimetype": "text/x-python",
   "name": "python",
   "nbconvert_exporter": "python",
   "pygments_lexer": "ipython3",
   "version": "3.11.5"
  },
  "orig_nbformat": 4
 },
 "nbformat": 4,
 "nbformat_minor": 2
}
