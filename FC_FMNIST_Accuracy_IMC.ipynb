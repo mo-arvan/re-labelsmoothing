{
 "cells": [
  {
   "cell_type": "markdown",
   "metadata": {},
   "source": [
    "# FullyConnected on FMNIST (Accuracy, Implicit Model Calibration)"
   ]
  },
  {
   "cell_type": "markdown",
   "metadata": {},
   "source": [
    "### Imports and Setup"
   ]
  },
  {
   "cell_type": "code",
   "execution_count": 1,
   "metadata": {},
   "outputs": [],
   "source": [
    "# PyTorch and Models\n",
    "import torch\n",
    "from architectures.FullyConnected import FullyConnected\n",
    "\n",
    "# Helper functions\n",
    "import datasets.datasets as datasets\n",
    "from util.common import *"
   ]
  },
  {
   "cell_type": "code",
   "execution_count": 2,
   "metadata": {},
   "outputs": [],
   "source": [
    "# Make PyTorch deterministic\n",
    "torch.manual_seed(0)\n",
    "torch.backends.cudnn.benchmark = False\n",
    "torch.backends.cudnn.deterministic = True\n",
    "\n",
    "# Set device\n",
    "device = torch.device('cuda' if torch.cuda.is_available() else 'cpu')"
   ]
  },
  {
   "cell_type": "markdown",
   "metadata": {},
   "source": [
    "### Load Data, Training and Test Sets"
   ]
  },
  {
   "cell_type": "code",
   "execution_count": 3,
   "metadata": {},
   "outputs": [
    {
     "name": "stdout",
     "output_type": "stream",
     "text": [
      "Downloading http://fashion-mnist.s3-website.eu-central-1.amazonaws.com/train-images-idx3-ubyte.gz\n",
      "Downloading http://fashion-mnist.s3-website.eu-central-1.amazonaws.com/train-images-idx3-ubyte.gz to ./data\\FashionMNIST\\raw\\train-images-idx3-ubyte.gz\n"
     ]
    },
    {
     "name": "stderr",
     "output_type": "stream",
     "text": [
      "100%|██████████| 26421880/26421880 [00:04<00:00, 6081238.60it/s]\n"
     ]
    },
    {
     "name": "stdout",
     "output_type": "stream",
     "text": [
      "Extracting ./data\\FashionMNIST\\raw\\train-images-idx3-ubyte.gz to ./data\\FashionMNIST\\raw\n",
      "\n",
      "Downloading http://fashion-mnist.s3-website.eu-central-1.amazonaws.com/train-labels-idx1-ubyte.gz\n",
      "Downloading http://fashion-mnist.s3-website.eu-central-1.amazonaws.com/train-labels-idx1-ubyte.gz to ./data\\FashionMNIST\\raw\\train-labels-idx1-ubyte.gz\n"
     ]
    },
    {
     "name": "stderr",
     "output_type": "stream",
     "text": [
      "100%|██████████| 29515/29515 [00:00<00:00, 2173098.15it/s]"
     ]
    },
    {
     "name": "stdout",
     "output_type": "stream",
     "text": [
      "Extracting ./data\\FashionMNIST\\raw\\train-labels-idx1-ubyte.gz to ./data\\FashionMNIST\\raw\n",
      "\n",
      "Downloading http://fashion-mnist.s3-website.eu-central-1.amazonaws.com/t10k-images-idx3-ubyte.gz\n"
     ]
    },
    {
     "name": "stderr",
     "output_type": "stream",
     "text": [
      "\n"
     ]
    },
    {
     "name": "stdout",
     "output_type": "stream",
     "text": [
      "Downloading http://fashion-mnist.s3-website.eu-central-1.amazonaws.com/t10k-images-idx3-ubyte.gz to ./data\\FashionMNIST\\raw\\t10k-images-idx3-ubyte.gz\n"
     ]
    },
    {
     "name": "stderr",
     "output_type": "stream",
     "text": [
      "100%|██████████| 4422102/4422102 [00:00<00:00, 6084796.48it/s]\n"
     ]
    },
    {
     "name": "stdout",
     "output_type": "stream",
     "text": [
      "Extracting ./data\\FashionMNIST\\raw\\t10k-images-idx3-ubyte.gz to ./data\\FashionMNIST\\raw\n",
      "\n",
      "Downloading http://fashion-mnist.s3-website.eu-central-1.amazonaws.com/t10k-labels-idx1-ubyte.gz\n",
      "Downloading http://fashion-mnist.s3-website.eu-central-1.amazonaws.com/t10k-labels-idx1-ubyte.gz to ./data\\FashionMNIST\\raw\\t10k-labels-idx1-ubyte.gz\n"
     ]
    },
    {
     "name": "stderr",
     "output_type": "stream",
     "text": [
      "100%|██████████| 5148/5148 [00:00<00:00, 9761427.21it/s]"
     ]
    },
    {
     "name": "stdout",
     "output_type": "stream",
     "text": [
      "Extracting ./data\\FashionMNIST\\raw\\t10k-labels-idx1-ubyte.gz to ./data\\FashionMNIST\\raw\n",
      "\n"
     ]
    },
    {
     "name": "stderr",
     "output_type": "stream",
     "text": [
      "\n"
     ]
    }
   ],
   "source": [
    "# Loading dataset into training and test data\n",
    "training_loader = datasets.fmnist_training_loader()\n",
    "test_loader = datasets.fmnist_test_loader()"
   ]
  },
  {
   "cell_type": "code",
   "execution_count": 6,
   "metadata": {},
   "outputs": [
    {
     "data": {
      "image/png": "[encoded data removed]",
      "text/plain": [
       "<Figure size 640x480 with 4 Axes>"
      ]
     },
     "metadata": {},
     "output_type": "display_data"
    }
   ],
   "source": [
    "# Some sample images from the dataset\n",
    "show_images (datasets.fmnist_training_dataset(), 4, 'Sample Images from FMNIST')"
   ]
  },
  {
   "cell_type": "markdown",
   "metadata": {},
   "source": [
    "### Training with Different Label Smoothing Constants"
   ]
  },
  {
   "cell_type": "code",
   "execution_count": null,
   "metadata": {},
   "outputs": [],
   "source": [
    "model = FullyConnected(1200, 0)\n",
    "model.train_model(device, training_loader, test_loader, 0, NUM_EPOCHS_FULLY_CONNECTED)\n",
    "\n",
    "torch.save(model.state_dict(), \"models/FC_FMNIST_Accuracy_IMC/FullyConnected_FMNIST_Hard_Labels.pt\")"
   ]
  },
  {
   "cell_type": "code",
   "execution_count": null,
   "metadata": {},
   "outputs": [],
   "source": [
    "model = FullyConnected(1200, 0)\n",
    "model.train_model(device, training_loader, test_loader, 0.05, NUM_EPOCHS_FULLY_CONNECTED)\n",
    "\n",
    "torch.save(model.state_dict(), \"models/FC_FMNIST_Accuracy_IMC/FullyConnected_FMNIST_Smooth_Labels_005.pt\")"
   ]
  },
  {
   "cell_type": "code",
   "execution_count": null,
   "metadata": {},
   "outputs": [],
   "source": [
    "model = FullyConnected(1200, 0)\n",
    "model.train_model(device, training_loader, test_loader, 0.1, NUM_EPOCHS_FULLY_CONNECTED)\n",
    "\n",
    "torch.save(model.state_dict(), \"models/FC_FMNIST_Accuracy_IMC/FullyConnected_FMNIST_Smooth_Labels_01.pt\")"
   ]
  },
  {
   "cell_type": "code",
   "execution_count": null,
   "metadata": {},
   "outputs": [],
   "source": [
    "model = FullyConnected(1200, 0)\n",
    "model.train_model(device, training_loader, test_loader, 0.15, NUM_EPOCHS_FULLY_CONNECTED)\n",
    "\n",
    "torch.save(model.state_dict(), \"models/FC_FMNIST_Accuracy_IMC/FullyConnected_FMNIST_Smooth_Labels_015.pt\")"
   ]
  },
  {
   "cell_type": "code",
   "execution_count": null,
   "metadata": {},
   "outputs": [],
   "source": [
    "model = FullyConnected(1200, 0)\n",
    "model.train_model(device, training_loader, test_loader, 0.3, NUM_EPOCHS_FULLY_CONNECTED)\n",
    "\n",
    "torch.save(model.state_dict(), \"models/FC_FMNIST_Accuracy_IMC/FullyConnected_FMNIST_Smooth_Labels_03.pt\")"
   ]
  },
  {
   "attachments": {},
   "cell_type": "markdown",
   "metadata": {},
   "source": [
    "### Accuracies for Models"
   ]
  },
  {
   "cell_type": "code",
   "execution_count": 4,
   "metadata": {},
   "outputs": [
    {
     "name": "stdout",
     "output_type": "stream",
     "text": [
      "Error for network using Hard Labels: 8.99%\n"
     ]
    }
   ],
   "source": [
    "# Temperature for temperature scaling\n",
    "temperature = 1.1\n",
    "\n",
    "model = FullyConnected(1200)\n",
    "model.load_state_dict(torch.load(f\"models/FC_FMNIST_Accuracy_IMC/FullyConnected_FMNIST_Hard_Labels.pt\", map_location=device))\n",
    "model.to(device)\n",
    "\n",
    "# Compute Accuracy and Reliability\n",
    "print(f\"Error for network using Hard Labels: {100-compute_accuracy(model, test_loader, device).cpu().item():.2f}%\")\n",
    "rel_bins_Hard = bin_reliability(model, test_loader, device, NUM_BINS)\n",
    "rel_bins_Temperature = bin_reliability(model, test_loader, device, NUM_BINS, temperature)"
   ]
  },
  {
   "cell_type": "code",
   "execution_count": 5,
   "metadata": {},
   "outputs": [
    {
     "name": "stdout",
     "output_type": "stream",
     "text": [
      "Error for network using Label smoothing (alpha = 0.05): 9.34%\n"
     ]
    }
   ],
   "source": [
    "model = FullyConnected(1200)\n",
    "model.load_state_dict(torch.load(f\"models/FC_FMNIST_Accuracy_IMC/FullyConnected_FMNIST_Smooth_Labels_005.pt\", map_location=device))\n",
    "model.to(device)\n",
    "\n",
    "# Compute Accuracy and Reliability\n",
    "print(f\"Error for network using Label smoothing (alpha = 0.05): {100-compute_accuracy(model, test_loader, device).cpu().item():.2f}%\")\n",
    "rel_bins_Smooth = bin_reliability(model, test_loader, device, NUM_BINS)"
   ]
  },
  {
   "cell_type": "code",
   "execution_count": 6,
   "metadata": {},
   "outputs": [
    {
     "name": "stdout",
     "output_type": "stream",
     "text": [
      "Error for network using Label smoothing (alpha = 0.1): 9.55%\n"
     ]
    }
   ],
   "source": [
    "model = FullyConnected(1200)\n",
    "model.load_state_dict(torch.load(f\"models/FC_FMNIST_Accuracy_IMC/FullyConnected_FMNIST_Smooth_Labels_01.pt\", map_location=device))\n",
    "model.to(device)\n",
    "\n",
    "# Compute Accuracy and Reliability\n",
    "print(f\"Error for network using Label smoothing (alpha = 0.1): {100-compute_accuracy(model, test_loader, device).cpu().item():.2f}%\")\n",
    "rel_bins_Smooth_2 = bin_reliability(model, test_loader, device, NUM_BINS)"
   ]
  },
  {
   "cell_type": "code",
   "execution_count": 7,
   "metadata": {},
   "outputs": [
    {
     "name": "stdout",
     "output_type": "stream",
     "text": [
      "Error for network using Label smoothing (alpha = 0.15): 9.41%\n"
     ]
    }
   ],
   "source": [
    "model = FullyConnected(1200)\n",
    "model.load_state_dict(torch.load(f\"models/FC_FMNIST_Accuracy_IMC/FullyConnected_FMNIST_Smooth_Labels_015.pt\", map_location=device))\n",
    "model.to(device)\n",
    "\n",
    "# Compute Accuracy and Reliability\n",
    "print(f\"Error for network using Label smoothing (alpha = 0.15): {100-compute_accuracy(model, test_loader, device).cpu().item():.2f}%\")\n",
    "rel_bins_Smooth_3 = bin_reliability(model, test_loader, device, NUM_BINS)"
   ]
  },
  {
   "cell_type": "code",
   "execution_count": 8,
   "metadata": {},
   "outputs": [
    {
     "name": "stdout",
     "output_type": "stream",
     "text": [
      "Error for network using Label smoothing (alpha = 0.3): 9.63%\n"
     ]
    }
   ],
   "source": [
    "model = FullyConnected(1200)\n",
    "model.load_state_dict(torch.load(f\"models/FC_FMNIST_Accuracy_IMC/FullyConnected_FMNIST_Smooth_Labels_03.pt\", map_location=device))\n",
    "model.to(device)\n",
    "\n",
    "# Compute Accuracy and Reliability\n",
    "print(f\"Error for network using Label smoothing (alpha = 0.3): {100-compute_accuracy(model, test_loader, device).cpu().item():.2f}%\")\n",
    "rel_bins_Smooth_4 = bin_reliability(model, test_loader, device, NUM_BINS)"
   ]
  },
  {
   "cell_type": "markdown",
   "metadata": {},
   "source": [
    "#### Compute ECE Score"
   ]
  },
  {
   "cell_type": "code",
   "execution_count": 9,
   "metadata": {},
   "outputs": [
    {
     "name": "stdout",
     "output_type": "stream",
     "text": [
      "ECE w. Hard Labels: 0.0097\n",
      "ECE w. Smooth Labels (alpha = 0.05): 0.0423\n",
      "ECE w. Smooth Labels (alpha = 0.1): 0.0846\n",
      "ECE w. Smooth Labels (alpha = 0.15): 0.1282\n",
      "ECE w. Smooth Labels (alpha = 0.3): 0.2516\n",
      "ECE w. Temperature Scaling: 0.0075\n"
     ]
    }
   ],
   "source": [
    "print(f\"ECE w. Hard Labels: {calculate_ece(rel_bins_Hard):.4f}\")\n",
    "print(f\"ECE w. Smooth Labels (alpha = 0.05): {calculate_ece(rel_bins_Smooth):.4f}\")\n",
    "print(f\"ECE w. Smooth Labels (alpha = 0.1): {calculate_ece(rel_bins_Smooth_2):.4f}\")\n",
    "print(f\"ECE w. Smooth Labels (alpha = 0.15): {calculate_ece(rel_bins_Smooth_3):.4f}\")\n",
    "print(f\"ECE w. Smooth Labels (alpha = 0.3): {calculate_ece(rel_bins_Smooth_4):.4f}\")\n",
    "print(f\"ECE w. Temperature Scaling: {calculate_ece(rel_bins_Temperature):.4f}\")"
   ]
  },
  {
   "cell_type": "markdown",
   "metadata": {},
   "source": [
    "#### Plot Reliability Diagram"
   ]
  },
  {
   "cell_type": "code",
   "execution_count": 10,
   "metadata": {},
   "outputs": [
    {
     "data": {
      "image/png": "[encoded data removed]",
      "text/plain": [
       "<Figure size 500x375 with 1 Axes>"
      ]
     },
     "metadata": {},
     "output_type": "display_data"
    }
   ],
   "source": [
    "fig = plot_reliability(rel_bins_Hard, rel_bins_Smooth, rel_bins_Temperature, temperature, 0.05)\n",
    "fig.savefig(format=\"pdf\", fname=\"figures/reliability_fmnist.pdf\",bbox_inches='tight')"
   ]
  }
 ],
 "metadata": {
  "kernelspec": {
   "display_name": "pytorch",
   "language": "python",
   "name": "python3"
  },
  "language_info": {
   "codemirror_mode": {
    "name": "ipython",
    "version": 3
   },
   "file_extension": ".py",
   "mimetype": "text/x-python",
   "name": "python",
   "nbconvert_exporter": "python",
   "pygments_lexer": "ipython3",
   "version": "3.11.5"
  },
  "orig_nbformat": 4
 },
 "nbformat": 4,
 "nbformat_minor": 2
}
