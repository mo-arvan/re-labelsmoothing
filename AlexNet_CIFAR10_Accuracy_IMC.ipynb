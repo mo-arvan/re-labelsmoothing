{
 "cells": [
  {
   "attachments": {},
   "cell_type": "markdown",
   "metadata": {},
   "source": [
    "# AlexNet on CIFAR10 (Accuracy, Implicit Model Calibration)"
   ]
  },
  {
   "attachments": {},
   "cell_type": "markdown",
   "metadata": {},
   "source": [
    "### Imports and Setup"
   ]
  },
  {
   "cell_type": "code",
   "execution_count": 1,
   "metadata": {},
   "outputs": [],
   "source": [
    "# PyTorch and Models\n",
    "import torch\n",
    "from architectures.AlexNet import AlexNet\n",
    "\n",
    "# Helper functions\n",
    "import datasets.datasets as datasets\n",
    "from util.common import *"
   ]
  },
  {
   "cell_type": "code",
   "execution_count": 2,
   "metadata": {},
   "outputs": [],
   "source": [
    "# Make PyTorch deterministic\n",
    "torch.manual_seed(0)\n",
    "torch.backends.cudnn.benchmark = False\n",
    "torch.backends.cudnn.deterministic = True\n",
    "\n",
    "# Set device\n",
    "device = torch.device('cuda' if torch.cuda.is_available() else 'cpu')"
   ]
  },
  {
   "attachments": {},
   "cell_type": "markdown",
   "metadata": {},
   "source": [
    "### Load Data, Training and Validation Sets"
   ]
  },
  {
   "cell_type": "code",
   "execution_count": 11,
   "metadata": {},
   "outputs": [
    {
     "name": "stdout",
     "output_type": "stream",
     "text": [
      "Files already downloaded and verified\n",
      "Files already downloaded and verified\n"
     ]
    }
   ],
   "source": [
    "# Loading dataset into training and validation data\n",
    "training_loader = datasets.cifar10_training_loader()\n",
    "validation_loader = datasets.cifar10_validation_loader()"
   ]
  },
  {
   "cell_type": "code",
   "execution_count": 4,
   "metadata": {},
   "outputs": [
    {
     "name": "stdout",
     "output_type": "stream",
     "text": [
      "Files already downloaded and verified\n"
     ]
    },
    {
     "data": {
      "image/png": "[encoded data removed]",
      "text/plain": [
       "<Figure size 640x480 with 4 Axes>"
      ]
     },
     "metadata": {},
     "output_type": "display_data"
    }
   ],
   "source": [
    "# Some sample images from the dataset\n",
    "show_images(datasets.cifar10_training_dataset(), 4, 'Sample Images from Transformed CIFAR10')"
   ]
  },
  {
   "attachments": {},
   "cell_type": "markdown",
   "metadata": {},
   "source": [
    "### Training with Different Label Smoothing Constants"
   ]
  },
  {
   "cell_type": "code",
   "execution_count": null,
   "metadata": {},
   "outputs": [],
   "source": [
    "model_Hard = AlexNet(num_classes=10)\n",
    "model_Hard.train_model(device, training_loader, validation_loader, 0, NUM_EPOCHS_ALEXNET)\n",
    "\n",
    "torch.save(model_Hard.state_dict(), \"models/AlexNet_Accuracy_IMC/AlexNet_Hard_Labels.pt\")"
   ]
  },
  {
   "cell_type": "code",
   "execution_count": null,
   "metadata": {},
   "outputs": [],
   "source": [
    "model_Smooth_05 = AlexNet(num_classes=10)\n",
    "model_Smooth_05.train_model(device, training_loader, validation_loader, 0.05, NUM_EPOCHS_ALEXNET)\n",
    "\n",
    "torch.save(model_Smooth_05.state_dict(), \"models/AlexNet_Accuracy_IMC/AlexNet_Smooth_Labels_005.pt\")"
   ]
  },
  {
   "cell_type": "code",
   "execution_count": null,
   "metadata": {},
   "outputs": [],
   "source": [
    "model_Smooth_1 = AlexNet(num_classes=10)\n",
    "model_Smooth_1.train_model(device, training_loader, validation_loader, 0.1, NUM_EPOCHS_ALEXNET)\n",
    "\n",
    "torch.save(model_Smooth_1.state_dict(), \"models/AlexNet_Accuracy_IMC/AlexNet_Smooth_Labels_01.pt\")"
   ]
  },
  {
   "cell_type": "code",
   "execution_count": null,
   "metadata": {},
   "outputs": [],
   "source": [
    "model_Smooth_15 = AlexNet(num_classes=10)\n",
    "model_Smooth_15.train_model(device, training_loader, validation_loader, 0.15, NUM_EPOCHS_ALEXNET)\n",
    "\n",
    "torch.save(model_Smooth_15.state_dict(), \"models/AlexNet_Accuracy_IMC/AlexNet_Smooth_Labels_015.pt\")"
   ]
  },
  {
   "cell_type": "code",
   "execution_count": null,
   "metadata": {},
   "outputs": [],
   "source": [
    "model_Smooth_3 = AlexNet(num_classes=10)\n",
    "model_Smooth_3.train_model(device, training_loader, validation_loader, 0.3, NUM_EPOCHS_ALEXNET)\n",
    "\n",
    "torch.save(model_Smooth_3.state_dict(), \"models/AlexNet_Accuracy_IMC/AlexNet_Smooth_Labels_03.pt\")"
   ]
  },
  {
   "attachments": {},
   "cell_type": "markdown",
   "metadata": {},
   "source": [
    "### Accuracy and Reliabity"
   ]
  },
  {
   "cell_type": "code",
   "execution_count": 4,
   "metadata": {},
   "outputs": [
    {
     "name": "stdout",
     "output_type": "stream",
     "text": [
      "Accuarcy for AlexNet w. Hard Labels: 85.01%\n"
     ]
    }
   ],
   "source": [
    "# Temperature for temperature scaling\n",
    "temperature = 2.5\n",
    "\n",
    "model_Hard = AlexNet(num_classes=10)\n",
    "model_Hard.load_state_dict(torch.load(\"models/AlexNet_Accuracy_IMC/AlexNet_Hard_Labels.pt\",map_location=device))\n",
    "model_Hard.to(device)\n",
    "\n",
    "# Compute Accuracy and Reliability\n",
    "print(f\"Accuarcy for AlexNet w. Hard Labels: {compute_accuracy(model_Hard, validation_loader, device).item():.2f}%\")\n",
    "rel_bins_Hard = bin_reliability(model_Hard, validation_loader, device, NUM_BINS)\n",
    "rel_bins_Temperature = bin_reliability(model_Hard, validation_loader, device, NUM_BINS, temperature)"
   ]
  },
  {
   "cell_type": "code",
   "execution_count": 5,
   "metadata": {},
   "outputs": [
    {
     "name": "stdout",
     "output_type": "stream",
     "text": [
      "Accuarcy for AlexNet w. Smooth Labels (alpha = 0.05): 85.13%\n"
     ]
    }
   ],
   "source": [
    "model_Smooth_05 = AlexNet(num_classes=10)\n",
    "model_Smooth_05.load_state_dict(torch.load(\"models/AlexNet_Accuracy_IMC/AlexNet_Smooth_Labels_005.pt\",map_location=device))\n",
    "model_Smooth_05.to(device)\n",
    "\n",
    "# Compute Accuracy and Reliability\n",
    "print(f\"Accuarcy for AlexNet w. Smooth Labels (alpha = 0.05): {compute_accuracy(model_Smooth_05, validation_loader, device).item():.2f}%\")\n",
    "rel_bins_Smooth = bin_reliability(model_Smooth_05, validation_loader, device, NUM_BINS)"
   ]
  },
  {
   "cell_type": "code",
   "execution_count": 6,
   "metadata": {},
   "outputs": [
    {
     "name": "stdout",
     "output_type": "stream",
     "text": [
      "Accuarcy for AlexNet w. Smooth Labels (alpha = 0.1): 85.47%\n"
     ]
    }
   ],
   "source": [
    "model_Smooth_1 = AlexNet(num_classes=10)\n",
    "model_Smooth_1.load_state_dict(torch.load(\"models/AlexNet_Accuracy_IMC/AlexNet_Smooth_Labels_01.pt\",map_location=device))\n",
    "model_Smooth_1.to(device)\n",
    "\n",
    "# Compute Accuracy and Reliability\n",
    "print(f\"Accuarcy for AlexNet w. Smooth Labels (alpha = 0.1): {compute_accuracy(model_Smooth_1, validation_loader, device).item():.2f}%\")\n",
    "rel_bins_Smooth_2 = bin_reliability(model_Smooth_1, validation_loader, device, NUM_BINS)"
   ]
  },
  {
   "cell_type": "code",
   "execution_count": 7,
   "metadata": {},
   "outputs": [
    {
     "name": "stdout",
     "output_type": "stream",
     "text": [
      "Accuarcy for AlexNet w. Smooth Labels (alpha = 0.15): 84.83%\n"
     ]
    }
   ],
   "source": [
    "model_Smooth_15 = AlexNet(num_classes=10)\n",
    "model_Smooth_15.load_state_dict(torch.load(\"models/AlexNet_Accuracy_IMC/AlexNet_Smooth_Labels_015.pt\",map_location=device))\n",
    "model_Smooth_15.to(device)\n",
    "\n",
    "# Compute Accuracy and Reliability\n",
    "print(f\"Accuarcy for AlexNet w. Smooth Labels (alpha = 0.15): {compute_accuracy(model_Smooth_15, validation_loader, device).item():.2f}%\")\n",
    "rel_bins_Smooth_3 = bin_reliability(model_Smooth_15, validation_loader, device, NUM_BINS)"
   ]
  },
  {
   "cell_type": "code",
   "execution_count": 8,
   "metadata": {},
   "outputs": [
    {
     "name": "stdout",
     "output_type": "stream",
     "text": [
      "Accuarcy for AlexNet w. Smooth Labels (alpha = 0.3): 86.02%\n"
     ]
    }
   ],
   "source": [
    "model_Smooth_3 = AlexNet(num_classes=10)\n",
    "model_Smooth_3.load_state_dict(torch.load(\"models/AlexNet_Accuracy_IMC/AlexNet_Smooth_Labels_03.pt\",map_location=device))\n",
    "model_Smooth_3.to(device)\n",
    "\n",
    "# Compute Accuracy and Reliability\n",
    "print(f\"Accuarcy for AlexNet w. Smooth Labels (alpha = 0.3): {compute_accuracy(model_Smooth_3, validation_loader, device).item():.2f}%\")\n",
    "rel_bins_Smooth_4 = bin_reliability(model_Smooth_3, validation_loader, device, NUM_BINS)"
   ]
  },
  {
   "cell_type": "markdown",
   "metadata": {},
   "source": [
    "#### Compute ECE Score"
   ]
  },
  {
   "cell_type": "code",
   "execution_count": 9,
   "metadata": {},
   "outputs": [
    {
     "name": "stdout",
     "output_type": "stream",
     "text": [
      "ECE w. Hard Labels: 0.0968\n",
      "ECE w. Smooth Labels (alpha = 0.05): 0.0257\n",
      "ECE w. Smooth Labels (alpha = 0.1): 0.0481\n",
      "ECE w. Smooth Labels (alpha = 0.15): 0.0871\n",
      "ECE w. Smooth Labels (alpha = 0.3): 0.2212\n",
      "ECE w. Temperature Scaling: 0.0118\n"
     ]
    }
   ],
   "source": [
    "print(f\"ECE w. Hard Labels: {calculate_ece(rel_bins_Hard):.4f}\")\n",
    "print(f\"ECE w. Smooth Labels (alpha = 0.05): {calculate_ece(rel_bins_Smooth):.4f}\")\n",
    "print(f\"ECE w. Smooth Labels (alpha = 0.1): {calculate_ece(rel_bins_Smooth_2):.4f}\")\n",
    "print(f\"ECE w. Smooth Labels (alpha = 0.15): {calculate_ece(rel_bins_Smooth_3):.4f}\")\n",
    "print(f\"ECE w. Smooth Labels (alpha = 0.3): {calculate_ece(rel_bins_Smooth_4):.4f}\")\n",
    "print(f\"ECE w. Temperature Scaling: {calculate_ece(rel_bins_Temperature):.4f}\")"
   ]
  },
  {
   "cell_type": "markdown",
   "metadata": {},
   "source": [
    "#### Plot Reliability Diagram"
   ]
  },
  {
   "cell_type": "code",
   "execution_count": 10,
   "metadata": {},
   "outputs": [
    {
     "data": {
      "image/png": "[encoded data removed]",
      "text/plain": [
       "<Figure size 500x375 with 1 Axes>"
      ]
     },
     "metadata": {},
     "output_type": "display_data"
    }
   ],
   "source": [
    "fig = plot_reliability(rel_bins_Hard, rel_bins_Smooth, rel_bins_Temperature, temperature, 0.05)\n",
    "fig.savefig(format=\"pdf\", fname=\"figures/reliability_alexnet_cifar10.pdf\",bbox_inches='tight')"
   ]
  }
 ],
 "metadata": {
  "kernelspec": {
   "display_name": "Python 3 (ipykernel)",
   "language": "python",
   "name": "python3"
  },
  "language_info": {
   "codemirror_mode": {
    "name": "ipython",
    "version": 3
   },
   "file_extension": ".py",
   "mimetype": "text/x-python",
   "name": "python",
   "nbconvert_exporter": "python",
   "pygments_lexer": "ipython3",
   "version": "3.11.5"
  },
  "vscode": {
   "interpreter": {
    "hash": "5a129b42e7fc4f9fa95f4a881b5eed3de9c3e714e2983c169ff8928967c5ac46"
   }
  },
  "widgets": {
   "application/vnd.jupyter.widget-state+json": {
    "state": {
     "031177ac2ea548739955b8d7651ac16b": {
      "model_module": "@jupyter-widgets/base",
      "model_module_version": "2.0.0",
      "model_name": "LayoutModel",
      "state": {}
     },
     "03f8544fcd224ef1a5d4cdf8c8a0322c": {
      "model_module": "@jupyter-widgets/base",
      "model_module_version": "2.0.0",
      "model_name": "LayoutModel",
      "state": {
       "visibility": "hidden"
      }
     },
     "08e32e362b4147c4bb1df12342477e71": {
      "model_module": "@jupyter-widgets/base",
      "model_module_version": "2.0.0",
      "model_name": "LayoutModel",
      "state": {}
     },
     "0f744a844b9f4ab0a709a1d49ea7eef9": {
      "model_module": "@jupyter-widgets/base",
      "model_module_version": "2.0.0",
      "model_name": "LayoutModel",
      "state": {
       "visibility": "hidden"
      }
     },
     "0fec5288446842588d8ab0507997b055": {
      "model_module": "@jupyter-widgets/controls",
      "model_module_version": "2.0.0",
      "model_name": "HTMLStyleModel",
      "state": {
       "description_width": "",
       "font_size": null,
       "text_color": null
      }
     },
     "13472e88937e435ba3e9cf6ba01afa00": {
      "model_module": "@jupyter-widgets/base",
      "model_module_version": "2.0.0",
      "model_name": "LayoutModel",
      "state": {}
     },
     "17cc0dbc687c4bc08756e059c5281475": {
      "model_module": "@jupyter-widgets/controls",
      "model_module_version": "2.0.0",
      "model_name": "ProgressStyleModel",
      "state": {
       "description_width": ""
      }
     },
     "1bd88f181fb74d689c8a1c9f805324d8": {
      "model_module": "@jupyter-widgets/base",
      "model_module_version": "2.0.0",
      "model_name": "LayoutModel",
      "state": {}
     },
     "2600ee26a0b6496a89ba0a0d74d8d502": {
      "model_module": "@jupyter-widgets/controls",
      "model_module_version": "2.0.0",
      "model_name": "HTMLStyleModel",
      "state": {
       "description_width": "",
       "font_size": null,
       "text_color": null
      }
     },
     "284a14bad8434106955b7a3937ff3141": {
      "model_module": "@jupyter-widgets/base",
      "model_module_version": "2.0.0",
      "model_name": "LayoutModel",
      "state": {}
     },
     "29b03cd03b684d978c156a7153840916": {
      "model_module": "@jupyter-widgets/base",
      "model_module_version": "2.0.0",
      "model_name": "LayoutModel",
      "state": {}
     },
     "2b85d94568eb42e981ba6fc5373b4d8b": {
      "model_module": "@jupyter-widgets/controls",
      "model_module_version": "2.0.0",
      "model_name": "FloatProgressModel",
      "state": {
       "layout": "IPY_MODEL_42e80e90f5ab49769a5753ed8b5345f8",
       "max": 313,
       "style": "IPY_MODEL_77c1dadfa1a34145856c6649a0324d21",
       "value": 313
      }
     },
     "31de8b499bfa4245b3df5b2e1fa24484": {
      "model_module": "@jupyter-widgets/controls",
      "model_module_version": "2.0.0",
      "model_name": "HTMLModel",
      "state": {
       "layout": "IPY_MODEL_bb245b5e561a407a91d8cffac789616c",
       "style": "IPY_MODEL_3b269d8ddc784ace8bf59ca9782e19a0",
       "value": " 309/313 [00:06&lt;00:00, 48.26it/s, loss=6.02, lr=0.01]"
      }
     },
     "320314fb072647f19e0dd14447ea844a": {
      "model_module": "@jupyter-widgets/controls",
      "model_module_version": "2.0.0",
      "model_name": "HTMLStyleModel",
      "state": {
       "description_width": "",
       "font_size": null,
       "text_color": null
      }
     },
     "3a748d4750e9421992e42452d9c7f812": {
      "model_module": "@jupyter-widgets/controls",
      "model_module_version": "2.0.0",
      "model_name": "ProgressStyleModel",
      "state": {
       "description_width": ""
      }
     },
     "3b269d8ddc784ace8bf59ca9782e19a0": {
      "model_module": "@jupyter-widgets/controls",
      "model_module_version": "2.0.0",
      "model_name": "HTMLStyleModel",
      "state": {
       "description_width": "",
       "font_size": null,
       "text_color": null
      }
     },
     "3c020a9d329e48b79bed3e8c12c4db4a": {
      "model_module": "@jupyter-widgets/controls",
      "model_module_version": "2.0.0",
      "model_name": "HTMLModel",
      "state": {
       "layout": "IPY_MODEL_efa8738cde204ab9b47be942d55e3f9e",
       "style": "IPY_MODEL_b7386dee1d1e496296079f58a5806aff",
       "value": "Epoch 1/1246:  99%"
      }
     },
     "3fb2c3460f4849039681565fc05a30a0": {
      "model_module": "@jupyter-widgets/controls",
      "model_module_version": "2.0.0",
      "model_name": "HTMLModel",
      "state": {
       "layout": "IPY_MODEL_08e32e362b4147c4bb1df12342477e71",
       "style": "IPY_MODEL_abc049180cec4d658d09e0aa1702aba5",
       "value": "Epoch 3/1246:  99%"
      }
     },
     "408092d487814d889dc53856a4b5b870": {
      "model_module": "@jupyter-widgets/controls",
      "model_module_version": "2.0.0",
      "model_name": "HTMLStyleModel",
      "state": {
       "description_width": "",
       "font_size": null,
       "text_color": null
      }
     },
     "42031ceab6f947719cb42fc1ed8bd629": {
      "model_module": "@jupyter-widgets/controls",
      "model_module_version": "2.0.0",
      "model_name": "FloatProgressModel",
      "state": {
       "layout": "IPY_MODEL_284a14bad8434106955b7a3937ff3141",
       "max": 313,
       "style": "IPY_MODEL_693d16cec42a4457841e97b55eda21bf",
       "value": 313
      }
     },
     "42e80e90f5ab49769a5753ed8b5345f8": {
      "model_module": "@jupyter-widgets/base",
      "model_module_version": "2.0.0",
      "model_name": "LayoutModel",
      "state": {}
     },
     "4de8d5026d144732b0b0486530bc974b": {
      "model_module": "@jupyter-widgets/controls",
      "model_module_version": "2.0.0",
      "model_name": "HTMLModel",
      "state": {
       "layout": "IPY_MODEL_bc971e54231441ef84639d082b256463",
       "style": "IPY_MODEL_e4ccb1d4857248f28a0cd4383da999b8",
       "value": "Epoch 2/1246:  99%"
      }
     },
     "5ac5eb6d7b544253af6e18535ce42d34": {
      "model_module": "@jupyter-widgets/controls",
      "model_module_version": "2.0.0",
      "model_name": "HTMLModel",
      "state": {
       "layout": "IPY_MODEL_94514f3ca1f54645931a086fa6efed07",
       "style": "IPY_MODEL_320314fb072647f19e0dd14447ea844a",
       "value": "Epoch 5/1246:  99%"
      }
     },
     "5b6d2389b167450c8d656e2e0e92a440": {
      "model_module": "@jupyter-widgets/controls",
      "model_module_version": "2.0.0",
      "model_name": "HTMLModel",
      "state": {
       "layout": "IPY_MODEL_8b7bf3c7135c4f228e0fc2b3a64e41a7",
       "style": "IPY_MODEL_6b01f03d28b0442081b9cd9497d953b8",
       "value": " 310/313 [00:07&lt;00:00, 48.65it/s, loss=7.87, lr=0.01]"
      }
     },
     "62be6bf6c42046af838d9f0aebbd9505": {
      "model_module": "@jupyter-widgets/controls",
      "model_module_version": "2.0.0",
      "model_name": "FloatProgressModel",
      "state": {
       "layout": "IPY_MODEL_d4b69b9edffb41179b00c5d6723ae498",
       "max": 313,
       "style": "IPY_MODEL_eb942b4fbd554e5e8d70946ca52869bb",
       "value": 268
      }
     },
     "693d16cec42a4457841e97b55eda21bf": {
      "model_module": "@jupyter-widgets/controls",
      "model_module_version": "2.0.0",
      "model_name": "ProgressStyleModel",
      "state": {
       "description_width": ""
      }
     },
     "6b01f03d28b0442081b9cd9497d953b8": {
      "model_module": "@jupyter-widgets/controls",
      "model_module_version": "2.0.0",
      "model_name": "HTMLStyleModel",
      "state": {
       "description_width": "",
       "font_size": null,
       "text_color": null
      }
     },
     "6cff68d3ee2a4519aeb522ea36285386": {
      "model_module": "@jupyter-widgets/base",
      "model_module_version": "2.0.0",
      "model_name": "LayoutModel",
      "state": {}
     },
     "6ddc27dfb18643169f16db90b642cbc9": {
      "model_module": "@jupyter-widgets/controls",
      "model_module_version": "2.0.0",
      "model_name": "HTMLModel",
      "state": {
       "layout": "IPY_MODEL_783ded410b58494497268578fa501e08",
       "style": "IPY_MODEL_ecfad7d513b04373a876f710420967ad",
       "value": " 309/313 [00:06&lt;00:00, 49.05it/s, loss=5.85, lr=0.01]"
      }
     },
     "77c1dadfa1a34145856c6649a0324d21": {
      "model_module": "@jupyter-widgets/controls",
      "model_module_version": "2.0.0",
      "model_name": "ProgressStyleModel",
      "state": {
       "description_width": ""
      }
     },
     "783ded410b58494497268578fa501e08": {
      "model_module": "@jupyter-widgets/base",
      "model_module_version": "2.0.0",
      "model_name": "LayoutModel",
      "state": {}
     },
     "7c9670e9a1c6416b96295454cd39a0f0": {
      "model_module": "@jupyter-widgets/controls",
      "model_module_version": "2.0.0",
      "model_name": "HBoxModel",
      "state": {
       "children": [
        "IPY_MODEL_aa149623c88747938a01701dee24f3ee",
        "IPY_MODEL_9131aff37b3c495c8a1cd45f782b8dfb",
        "IPY_MODEL_f32879fbb7dd483bad26b2121f635eab"
       ],
       "layout": "IPY_MODEL_b98b5ff2442b46ca9e2bd7daf0229241"
      }
     },
     "833f15bc03274c399fad3b887bf23dba": {
      "model_module": "@jupyter-widgets/controls",
      "model_module_version": "2.0.0",
      "model_name": "HTMLStyleModel",
      "state": {
       "description_width": "",
       "font_size": null,
       "text_color": null
      }
     },
     "85bbbc457d7e4b39921af982777341ae": {
      "model_module": "@jupyter-widgets/base",
      "model_module_version": "2.0.0",
      "model_name": "LayoutModel",
      "state": {}
     },
     "8b7bf3c7135c4f228e0fc2b3a64e41a7": {
      "model_module": "@jupyter-widgets/base",
      "model_module_version": "2.0.0",
      "model_name": "LayoutModel",
      "state": {}
     },
     "9131aff37b3c495c8a1cd45f782b8dfb": {
      "model_module": "@jupyter-widgets/controls",
      "model_module_version": "2.0.0",
      "model_name": "FloatProgressModel",
      "state": {
       "layout": "IPY_MODEL_b5cdbb64b3c8417b952306add9d2a881",
       "max": 1246,
       "style": "IPY_MODEL_93d42a5944194f058e2a653b950cfbe4",
       "value": 6
      }
     },
     "93d42a5944194f058e2a653b950cfbe4": {
      "model_module": "@jupyter-widgets/controls",
      "model_module_version": "2.0.0",
      "model_name": "ProgressStyleModel",
      "state": {
       "description_width": ""
      }
     },
     "94514f3ca1f54645931a086fa6efed07": {
      "model_module": "@jupyter-widgets/base",
      "model_module_version": "2.0.0",
      "model_name": "LayoutModel",
      "state": {}
     },
     "958713edad6e4e2fa0b90bdb0e3b5579": {
      "model_module": "@jupyter-widgets/controls",
      "model_module_version": "2.0.0",
      "model_name": "HTMLModel",
      "state": {
       "layout": "IPY_MODEL_29b03cd03b684d978c156a7153840916",
       "style": "IPY_MODEL_0fec5288446842588d8ab0507997b055",
       "value": " 268/313 [00:05&lt;00:00, 47.49it/s, loss=5.49, lr=0.01]"
      }
     },
     "9b7ec9b348ae41919360803bbd13d879": {
      "model_module": "@jupyter-widgets/base",
      "model_module_version": "2.0.0",
      "model_name": "LayoutModel",
      "state": {}
     },
     "9d51a1b861c24fc7b61237a7c6ab6702": {
      "model_module": "@jupyter-widgets/controls",
      "model_module_version": "2.0.0",
      "model_name": "HTMLModel",
      "state": {
       "layout": "IPY_MODEL_c56f024361ca4417ac4a8c84ad567cb7",
       "style": "IPY_MODEL_fdee2457d3b4464198b5b1945a3aadff",
       "value": "Epoch 6/1246:  99%"
      }
     },
     "a307f3d7451549c5a0b994deed08f449": {
      "model_module": "@jupyter-widgets/controls",
      "model_module_version": "2.0.0",
      "model_name": "HTMLModel",
      "state": {
       "layout": "IPY_MODEL_b9a429e05ded4ded87a04a6628b16703",
       "style": "IPY_MODEL_408092d487814d889dc53856a4b5b870",
       "value": " 309/313 [00:06&lt;00:00, 48.33it/s, loss=6.66, lr=0.01]"
      }
     },
     "a66fbf22874b4fe6b1e23ef1582e8064": {
      "model_module": "@jupyter-widgets/controls",
      "model_module_version": "2.0.0",
      "model_name": "FloatProgressModel",
      "state": {
       "layout": "IPY_MODEL_fbaefb525f854465a4e16da5488ceac5",
       "max": 313,
       "style": "IPY_MODEL_b776d171a24a4a048056554744c64b4b",
       "value": 313
      }
     },
     "a6d8aeb926f140a59c1070fc1686141f": {
      "model_module": "@jupyter-widgets/base",
      "model_module_version": "2.0.0",
      "model_name": "LayoutModel",
      "state": {
       "visibility": "hidden"
      }
     },
     "aa149623c88747938a01701dee24f3ee": {
      "model_module": "@jupyter-widgets/controls",
      "model_module_version": "2.0.0",
      "model_name": "HTMLModel",
      "state": {
       "layout": "IPY_MODEL_85bbbc457d7e4b39921af982777341ae",
       "style": "IPY_MODEL_aff1a20aec18427788e76af0c85e635a",
       "value": "Total progress:   0%"
      }
     },
     "abc049180cec4d658d09e0aa1702aba5": {
      "model_module": "@jupyter-widgets/controls",
      "model_module_version": "2.0.0",
      "model_name": "HTMLStyleModel",
      "state": {
       "description_width": "",
       "font_size": null,
       "text_color": null
      }
     },
     "aff1a20aec18427788e76af0c85e635a": {
      "model_module": "@jupyter-widgets/controls",
      "model_module_version": "2.0.0",
      "model_name": "HTMLStyleModel",
      "state": {
       "description_width": "",
       "font_size": null,
       "text_color": null
      }
     },
     "b0bf823a17f84426b03a4dc3f4c91249": {
      "model_module": "@jupyter-widgets/controls",
      "model_module_version": "2.0.0",
      "model_name": "FloatProgressModel",
      "state": {
       "layout": "IPY_MODEL_c5e23790100242fb9f80cbba6b7e7d8c",
       "max": 313,
       "style": "IPY_MODEL_17cc0dbc687c4bc08756e059c5281475",
       "value": 313
      }
     },
     "b5cdbb64b3c8417b952306add9d2a881": {
      "model_module": "@jupyter-widgets/base",
      "model_module_version": "2.0.0",
      "model_name": "LayoutModel",
      "state": {}
     },
     "b7386dee1d1e496296079f58a5806aff": {
      "model_module": "@jupyter-widgets/controls",
      "model_module_version": "2.0.0",
      "model_name": "HTMLStyleModel",
      "state": {
       "description_width": "",
       "font_size": null,
       "text_color": null
      }
     },
     "b776d171a24a4a048056554744c64b4b": {
      "model_module": "@jupyter-widgets/controls",
      "model_module_version": "2.0.0",
      "model_name": "ProgressStyleModel",
      "state": {
       "description_width": ""
      }
     },
     "b7f7a3d276bf4534b23fe4fee16633ca": {
      "model_module": "@jupyter-widgets/base",
      "model_module_version": "2.0.0",
      "model_name": "LayoutModel",
      "state": {
       "visibility": "hidden"
      }
     },
     "b98b5ff2442b46ca9e2bd7daf0229241": {
      "model_module": "@jupyter-widgets/base",
      "model_module_version": "2.0.0",
      "model_name": "LayoutModel",
      "state": {}
     },
     "b9a429e05ded4ded87a04a6628b16703": {
      "model_module": "@jupyter-widgets/base",
      "model_module_version": "2.0.0",
      "model_name": "LayoutModel",
      "state": {}
     },
     "bb245b5e561a407a91d8cffac789616c": {
      "model_module": "@jupyter-widgets/base",
      "model_module_version": "2.0.0",
      "model_name": "LayoutModel",
      "state": {}
     },
     "bc971e54231441ef84639d082b256463": {
      "model_module": "@jupyter-widgets/base",
      "model_module_version": "2.0.0",
      "model_name": "LayoutModel",
      "state": {}
     },
     "bd04cd2ea300449d9c813136fa25f245": {
      "model_module": "@jupyter-widgets/controls",
      "model_module_version": "2.0.0",
      "model_name": "HTMLModel",
      "state": {
       "layout": "IPY_MODEL_9b7ec9b348ae41919360803bbd13d879",
       "style": "IPY_MODEL_f1399d7f151e485689731988bfa11db1",
       "value": " 310/313 [00:06&lt;00:00, 48.74it/s, loss=5.61, lr=0.01]"
      }
     },
     "c040dc8933d645998fe506b88d252334": {
      "model_module": "@jupyter-widgets/controls",
      "model_module_version": "2.0.0",
      "model_name": "HTMLModel",
      "state": {
       "layout": "IPY_MODEL_dd7529e0327e47d0b8a5f7047642d221",
       "style": "IPY_MODEL_833f15bc03274c399fad3b887bf23dba",
       "value": " 310/313 [00:06&lt;00:00, 47.75it/s, loss=5.7, lr=0.01]"
      }
     },
     "c56f024361ca4417ac4a8c84ad567cb7": {
      "model_module": "@jupyter-widgets/base",
      "model_module_version": "2.0.0",
      "model_name": "LayoutModel",
      "state": {}
     },
     "c5e23790100242fb9f80cbba6b7e7d8c": {
      "model_module": "@jupyter-widgets/base",
      "model_module_version": "2.0.0",
      "model_name": "LayoutModel",
      "state": {}
     },
     "c72453ae3d724fea99dc68ad7d3dd372": {
      "model_module": "@jupyter-widgets/base",
      "model_module_version": "2.0.0",
      "model_name": "LayoutModel",
      "state": {
       "visibility": "hidden"
      }
     },
     "cc1d467ea3514b99b4f77363684b0368": {
      "model_module": "@jupyter-widgets/controls",
      "model_module_version": "2.0.0",
      "model_name": "HTMLStyleModel",
      "state": {
       "description_width": "",
       "font_size": null,
       "text_color": null
      }
     },
     "cec66f0aaf1f4ab0bc72f5a879342c3c": {
      "model_module": "@jupyter-widgets/base",
      "model_module_version": "2.0.0",
      "model_name": "LayoutModel",
      "state": {
       "visibility": "hidden"
      }
     },
     "d13ebc13359e44bda7cd7d3aeb9ef4a9": {
      "model_module": "@jupyter-widgets/controls",
      "model_module_version": "2.0.0",
      "model_name": "HTMLModel",
      "state": {
       "layout": "IPY_MODEL_6cff68d3ee2a4519aeb522ea36285386",
       "style": "IPY_MODEL_cc1d467ea3514b99b4f77363684b0368",
       "value": "Epoch 4/1246:  99%"
      }
     },
     "d2d66af6ab394a28aa22761bcc6ed411": {
      "model_module": "@jupyter-widgets/base",
      "model_module_version": "2.0.0",
      "model_name": "LayoutModel",
      "state": {}
     },
     "d4b69b9edffb41179b00c5d6723ae498": {
      "model_module": "@jupyter-widgets/base",
      "model_module_version": "2.0.0",
      "model_name": "LayoutModel",
      "state": {}
     },
     "d95ebc61ea904da9a5576701f077c82d": {
      "model_module": "@jupyter-widgets/controls",
      "model_module_version": "2.0.0",
      "model_name": "FloatProgressModel",
      "state": {
       "layout": "IPY_MODEL_031177ac2ea548739955b8d7651ac16b",
       "max": 313,
       "style": "IPY_MODEL_fe30499b48a9496395347feced4ffa57",
       "value": 313
      }
     },
     "dd7529e0327e47d0b8a5f7047642d221": {
      "model_module": "@jupyter-widgets/base",
      "model_module_version": "2.0.0",
      "model_name": "LayoutModel",
      "state": {}
     },
     "de63cfca2ea74d97a185e7bf2158e115": {
      "model_module": "@jupyter-widgets/controls",
      "model_module_version": "2.0.0",
      "model_name": "HTMLStyleModel",
      "state": {
       "description_width": "",
       "font_size": null,
       "text_color": null
      }
     },
     "ded8803ebd0d4b4cba191d7dc2098b54": {
      "model_module": "@jupyter-widgets/base",
      "model_module_version": "2.0.0",
      "model_name": "LayoutModel",
      "state": {}
     },
     "e077cc7414a0432a9712b9822836bcda": {
      "model_module": "@jupyter-widgets/controls",
      "model_module_version": "2.0.0",
      "model_name": "HTMLModel",
      "state": {
       "layout": "IPY_MODEL_ded8803ebd0d4b4cba191d7dc2098b54",
       "style": "IPY_MODEL_de63cfca2ea74d97a185e7bf2158e115",
       "value": "Epoch 7/1246:  86%"
      }
     },
     "e4ccb1d4857248f28a0cd4383da999b8": {
      "model_module": "@jupyter-widgets/controls",
      "model_module_version": "2.0.0",
      "model_name": "HTMLStyleModel",
      "state": {
       "description_width": "",
       "font_size": null,
       "text_color": null
      }
     },
     "e4f20414267142fd97563daecea30d95": {
      "model_module": "@jupyter-widgets/controls",
      "model_module_version": "2.0.0",
      "model_name": "HBoxModel",
      "state": {
       "children": [
        "IPY_MODEL_e077cc7414a0432a9712b9822836bcda",
        "IPY_MODEL_62be6bf6c42046af838d9f0aebbd9505",
        "IPY_MODEL_958713edad6e4e2fa0b90bdb0e3b5579"
       ],
       "layout": "IPY_MODEL_d2d66af6ab394a28aa22761bcc6ed411"
      }
     },
     "eb942b4fbd554e5e8d70946ca52869bb": {
      "model_module": "@jupyter-widgets/controls",
      "model_module_version": "2.0.0",
      "model_name": "ProgressStyleModel",
      "state": {
       "description_width": ""
      }
     },
     "ecfad7d513b04373a876f710420967ad": {
      "model_module": "@jupyter-widgets/controls",
      "model_module_version": "2.0.0",
      "model_name": "HTMLStyleModel",
      "state": {
       "description_width": "",
       "font_size": null,
       "text_color": null
      }
     },
     "efa8738cde204ab9b47be942d55e3f9e": {
      "model_module": "@jupyter-widgets/base",
      "model_module_version": "2.0.0",
      "model_name": "LayoutModel",
      "state": {}
     },
     "f1399d7f151e485689731988bfa11db1": {
      "model_module": "@jupyter-widgets/controls",
      "model_module_version": "2.0.0",
      "model_name": "HTMLStyleModel",
      "state": {
       "description_width": "",
       "font_size": null,
       "text_color": null
      }
     },
     "f32879fbb7dd483bad26b2121f635eab": {
      "model_module": "@jupyter-widgets/controls",
      "model_module_version": "2.0.0",
      "model_name": "HTMLModel",
      "state": {
       "layout": "IPY_MODEL_1bd88f181fb74d689c8a1c9f805324d8",
       "style": "IPY_MODEL_2600ee26a0b6496a89ba0a0d74d8d502",
       "value": " 6/1246 [00:40&lt;2:17:25,  6.65s/it]"
      }
     },
     "fbaefb525f854465a4e16da5488ceac5": {
      "model_module": "@jupyter-widgets/base",
      "model_module_version": "2.0.0",
      "model_name": "LayoutModel",
      "state": {}
     },
     "fdee2457d3b4464198b5b1945a3aadff": {
      "model_module": "@jupyter-widgets/controls",
      "model_module_version": "2.0.0",
      "model_name": "HTMLStyleModel",
      "state": {
       "description_width": "",
       "font_size": null,
       "text_color": null
      }
     },
     "fdf02e7ea76545d9a4521244d24eb6e0": {
      "model_module": "@jupyter-widgets/controls",
      "model_module_version": "2.0.0",
      "model_name": "FloatProgressModel",
      "state": {
       "layout": "IPY_MODEL_13472e88937e435ba3e9cf6ba01afa00",
       "max": 313,
       "style": "IPY_MODEL_3a748d4750e9421992e42452d9c7f812",
       "value": 313
      }
     },
     "fe30499b48a9496395347feced4ffa57": {
      "model_module": "@jupyter-widgets/controls",
      "model_module_version": "2.0.0",
      "model_name": "ProgressStyleModel",
      "state": {
       "description_width": ""
      }
     }
    },
    "version_major": 2,
    "version_minor": 0
   }
  }
 },
 "nbformat": 4,
 "nbformat_minor": 4
}
