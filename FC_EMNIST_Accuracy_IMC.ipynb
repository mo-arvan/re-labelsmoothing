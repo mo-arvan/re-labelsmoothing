{
 "cells": [
  {
   "attachments": {},
   "cell_type": "markdown",
   "metadata": {},
   "source": [
    "# FullyConnected on EMNIST (Accuracy, Implicit Model Calibration)"
   ]
  },
  {
   "cell_type": "markdown",
   "metadata": {},
   "source": [
    "### Imports and Setup"
   ]
  },
  {
   "cell_type": "code",
   "execution_count": 1,
   "metadata": {},
   "outputs": [],
   "source": [
    "# PyTorch and Models\n",
    "import torch\n",
    "from architectures.FullyConnected import FullyConnected\n",
    "\n",
    "# Helper functions\n",
    "import datasets.datasets as datasets\n",
    "from util.common import *"
   ]
  },
  {
   "cell_type": "code",
   "execution_count": 2,
   "metadata": {},
   "outputs": [],
   "source": [
    "# Make PyTorch deterministic\n",
    "torch.manual_seed(0)\n",
    "torch.backends.cudnn.benchmark = False\n",
    "torch.backends.cudnn.deterministic = True\n",
    "\n",
    "# Set device\n",
    "device = torch.device('cuda' if torch.cuda.is_available() else 'cpu')"
   ]
  },
  {
   "cell_type": "markdown",
   "metadata": {},
   "source": [
    "### Load Data, Training and Validation Sets"
   ]
  },
  {
   "cell_type": "code",
   "execution_count": 3,
   "metadata": {},
   "outputs": [
    {
     "name": "stdout",
     "output_type": "stream",
     "text": [
      "Downloading https://www.itl.nist.gov/iaui/vip/cs_links/EMNIST/gzip.zip to ./data\\EMNIST\\raw\\gzip.zip\n"
     ]
    },
    {
     "name": "stderr",
     "output_type": "stream",
     "text": [
      "100%|██████████| 561753746/561753746 [01:34<00:00, 5931035.14it/s]\n"
     ]
    },
    {
     "name": "stdout",
     "output_type": "stream",
     "text": [
      "Extracting ./data\\EMNIST\\raw\\gzip.zip to ./data\\EMNIST\\raw\n"
     ]
    }
   ],
   "source": [
    "# Loading dataset into training and validation data\n",
    "training_loader = datasets.emnist_training_loader()\n",
    "validation_loader = datasets.emnist_validation_loader()"
   ]
  },
  {
   "cell_type": "code",
   "execution_count": 4,
   "metadata": {},
   "outputs": [
    {
     "data": {
      "image/png": "[encoded data removed]",
      "text/plain": [
       "<Figure size 640x480 with 4 Axes>"
      ]
     },
     "metadata": {},
     "output_type": "display_data"
    }
   ],
   "source": [
    "# Some sample images from the dataset\n",
    "show_images (datasets.emnist_training_dataset(), 4, 'Sample Images from EMNIST')"
   ]
  },
  {
   "cell_type": "markdown",
   "metadata": {},
   "source": [
    "### Training with Different Label Smoothing Constants"
   ]
  },
  {
   "cell_type": "code",
   "execution_count": null,
   "metadata": {},
   "outputs": [],
   "source": [
    "model_Hard = FullyConnected(1200, 0, num_classes=47)\n",
    "model_Hard.train_model(device, training_loader, validation_loader, 0, NUM_EPOCHS_FULLY_CONNECTED)\n",
    "\n",
    "torch.save(model_Hard.state_dict(), \"models/FC_EMNIST_Accuracy_IMC/FullyConnected_EMNIST_Hard_Labels.pt\")"
   ]
  },
  {
   "cell_type": "code",
   "execution_count": null,
   "metadata": {},
   "outputs": [],
   "source": [
    "model_Smooth_05 = FullyConnected(1200, 0, num_classes=47)\n",
    "model_Smooth_05.train_model(device, training_loader, validation_loader, 0.05, NUM_EPOCHS_FULLY_CONNECTED)\n",
    "\n",
    "torch.save(model_Smooth_05.state_dict(), \"models/FC_EMNIST_Accuracy_IMC/FullyConnected_EMNIST_Smooth_Labels_005.pt\")"
   ]
  },
  {
   "cell_type": "code",
   "execution_count": null,
   "metadata": {},
   "outputs": [],
   "source": [
    "model_Smooth_1 = FullyConnected(1200, 0, num_classes=47)\n",
    "model_Smooth_1.train_model(device, training_loader, validation_loader, 0.1, NUM_EPOCHS_FULLY_CONNECTED)\n",
    "\n",
    "torch.save(model_Smooth_1.state_dict(), \"models/FC_EMNIST_Accuracy_IMC/FullyConnected_EMNIST_Smooth_Labels_01.pt\")"
   ]
  },
  {
   "cell_type": "code",
   "execution_count": null,
   "metadata": {},
   "outputs": [],
   "source": [
    "model_Smooth_15 = FullyConnected(1200, 0, num_classes=47)\n",
    "model_Smooth_15.train_model(device, training_loader, validation_loader, 0.15, NUM_EPOCHS_FULLY_CONNECTED)\n",
    "\n",
    "torch.save(model_Smooth_15.state_dict(), \"models/FC_EMNIST_Accuracy_IMC/FullyConnected_EMNIST_Smooth_Labels_015.pt\")"
   ]
  },
  {
   "cell_type": "code",
   "execution_count": null,
   "metadata": {},
   "outputs": [],
   "source": [
    "model_Smooth_3 = FullyConnected(1200, 0, num_classes=47)\n",
    "model_Smooth_3.train_model(device, training_loader, validation_loader, 0.3, NUM_EPOCHS_FULLY_CONNECTED)\n",
    "\n",
    "torch.save(model_Smooth_3.state_dict(), \"models/FC_EMNIST_Accuracy_IMC/FullyConnected_EMNIST_Smooth_Labels_03.pt\")"
   ]
  },
  {
   "cell_type": "markdown",
   "metadata": {},
   "source": [
    "### Accuracy and Reliabity"
   ]
  },
  {
   "cell_type": "code",
   "execution_count": 4,
   "metadata": {},
   "outputs": [
    {
     "name": "stdout",
     "output_type": "stream",
     "text": [
      "Error for network using Hard Labels: 11.21%\n"
     ]
    }
   ],
   "source": [
    "# Temperature for temperature scaling\n",
    "temperature = 1.14\n",
    "\n",
    "model_Hard = FullyConnected(1200, num_classes=47)\n",
    "model_Hard.load_state_dict(torch.load(f\"models/FC_EMNIST_Accuracy_IMC/FullyConnected_EMNIST_Hard_Labels.pt\", map_location=device))\n",
    "model_Hard.to(device)\n",
    "\n",
    "# Compute Accuracy and Reliability\n",
    "print(f\"Error for network using Hard Labels: {100-compute_accuracy(model_Hard, validation_loader, device).cpu().item():.2f}%\")\n",
    "rel_bins_Hard = bin_reliability(model_Hard, validation_loader, device, NUM_BINS)\n",
    "rel_bins_Temperature = bin_reliability(model_Hard, validation_loader, device, NUM_BINS, temperature)"
   ]
  },
  {
   "cell_type": "code",
   "execution_count": 5,
   "metadata": {},
   "outputs": [
    {
     "name": "stdout",
     "output_type": "stream",
     "text": [
      "Error for network using Label smoothing (alpha = 0.05): 10.89%\n"
     ]
    }
   ],
   "source": [
    "model_Smooth_05 = FullyConnected(1200, num_classes=47)\n",
    "model_Smooth_05.load_state_dict(torch.load(f\"models/FC_EMNIST_Accuracy_IMC/FullyConnected_EMNIST_Smooth_Labels_005.pt\", map_location=device))\n",
    "model_Smooth_05.to(device)\n",
    "\n",
    "# Compute Accuracy and Reliability\n",
    "print(f\"Error for network using Label smoothing (alpha = 0.05): {100-compute_accuracy(model_Smooth_05, validation_loader, device).cpu().item():.2f}%\")\n",
    "rel_bins_Smooth = bin_reliability(model_Smooth_05, validation_loader, device, NUM_BINS)"
   ]
  },
  {
   "cell_type": "code",
   "execution_count": 6,
   "metadata": {},
   "outputs": [
    {
     "name": "stdout",
     "output_type": "stream",
     "text": [
      "Error for network using Label smoothing (alpha = 0.1): 10.65%\n"
     ]
    }
   ],
   "source": [
    "model_Smooth_1 = FullyConnected(1200, num_classes=47)\n",
    "model_Smooth_1.load_state_dict(torch.load(f\"models/FC_EMNIST_Accuracy_IMC/FullyConnected_EMNIST_Smooth_Labels_01.pt\", map_location=device))\n",
    "model_Smooth_1.to(device)\n",
    "\n",
    "# Compute Accuracy and Reliability\n",
    "print(f\"Error for network using Label smoothing (alpha = 0.1): {100-compute_accuracy(model_Smooth_1, validation_loader, device).cpu().item():.2f}%\")\n",
    "rel_bins_Smooth_2 = bin_reliability(model_Smooth_1, validation_loader, device, NUM_BINS)"
   ]
  },
  {
   "cell_type": "code",
   "execution_count": 7,
   "metadata": {},
   "outputs": [
    {
     "name": "stdout",
     "output_type": "stream",
     "text": [
      "Error for network using Label smoothing (alpha = 0.15): 10.81%\n"
     ]
    }
   ],
   "source": [
    "model_Smooth_15 = FullyConnected(1200, num_classes=47)\n",
    "model_Smooth_15.load_state_dict(torch.load(f\"models/FC_EMNIST_Accuracy_IMC/FullyConnected_EMNIST_Smooth_Labels_015.pt\", map_location=device))\n",
    "model_Smooth_15.to(device)\n",
    "\n",
    "# Compute Accuracy and Reliability\n",
    "print(f\"Error for network using Label smoothing (alpha = 0.15): {100-compute_accuracy(model_Smooth_15, validation_loader, device).cpu().item():.2f}%\")\n",
    "rel_bins_Smooth_3 = bin_reliability(model_Smooth_15, validation_loader, device, NUM_BINS)"
   ]
  },
  {
   "cell_type": "code",
   "execution_count": 8,
   "metadata": {},
   "outputs": [
    {
     "name": "stdout",
     "output_type": "stream",
     "text": [
      "Error for network using Label smoothing (alpha = 0.3): 11.12%\n"
     ]
    }
   ],
   "source": [
    "model_Smooth_3 = FullyConnected(1200, num_classes=47)\n",
    "model_Smooth_3.load_state_dict(torch.load(f\"models/FC_EMNIST_Accuracy_IMC/FullyConnected_EMNIST_Smooth_Labels_03.pt\", map_location=device))\n",
    "model_Smooth_3.to(device)\n",
    "\n",
    "# Compute Accuracy and Reliability\n",
    "print(f\"Error for network using Label smoothing (alpha = 0.3): {100-compute_accuracy(model_Smooth_3, validation_loader, device).cpu().item():.2f}%\")\n",
    "rel_bins_Smooth_4 = bin_reliability(model_Smooth_3, validation_loader, device, NUM_BINS)"
   ]
  },
  {
   "cell_type": "markdown",
   "metadata": {},
   "source": [
    "#### Compute ECE Score"
   ]
  },
  {
   "cell_type": "code",
   "execution_count": 9,
   "metadata": {},
   "outputs": [
    {
     "name": "stdout",
     "output_type": "stream",
     "text": [
      "ECE w. Hard Labels: 0.0167\n",
      "ECE w. Smooth Labels (alpha = 0.05): 0.0559\n",
      "ECE w. Smooth Labels (alpha = 0.1): 0.1082\n",
      "ECE w. Smooth Labels (alpha = 0.15): 0.1540\n",
      "ECE w. Smooth Labels (alpha = 0.3): 0.2878\n",
      "ECE w. Temperature Scaling: 0.0083\n"
     ]
    }
   ],
   "source": [
    "print(f\"ECE w. Hard Labels: {calculate_ece(rel_bins_Hard):.4f}\")\n",
    "print(f\"ECE w. Smooth Labels (alpha = 0.05): {calculate_ece(rel_bins_Smooth):.4f}\")\n",
    "print(f\"ECE w. Smooth Labels (alpha = 0.1): {calculate_ece(rel_bins_Smooth_2):.4f}\")\n",
    "print(f\"ECE w. Smooth Labels (alpha = 0.15): {calculate_ece(rel_bins_Smooth_3):.4f}\")\n",
    "print(f\"ECE w. Smooth Labels (alpha = 0.3): {calculate_ece(rel_bins_Smooth_4):.4f}\")\n",
    "print(f\"ECE w. Temperature Scaling: {calculate_ece(rel_bins_Temperature):.4f}\")"
   ]
  },
  {
   "cell_type": "markdown",
   "metadata": {},
   "source": [
    "#### Plot Reliability Diagram"
   ]
  },
  {
   "cell_type": "code",
   "execution_count": 10,
   "metadata": {},
   "outputs": [
    {
     "data": {
      "image/png": "[encoded data removed]",
      "text/plain": [
       "<Figure size 500x375 with 1 Axes>"
      ]
     },
     "metadata": {},
     "output_type": "display_data"
    }
   ],
   "source": [
    "fig = plot_reliability(rel_bins_Hard, rel_bins_Smooth, rel_bins_Temperature, temperature, 0.05)\n",
    "fig.savefig(format=\"pdf\", fname=\"figures/reliability_emnist.pdf\",bbox_inches='tight')"
   ]
  }
 ],
 "metadata": {
  "kernelspec": {
   "display_name": "pytorch",
   "language": "python",
   "name": "python3"
  },
  "language_info": {
   "codemirror_mode": {
    "name": "ipython",
    "version": 3
   },
   "file_extension": ".py",
   "mimetype": "text/x-python",
   "name": "python",
   "nbconvert_exporter": "python",
   "pygments_lexer": "ipython3",
   "version": "3.11.5"
  },
  "orig_nbformat": 4
 },
 "nbformat": 4,
 "nbformat_minor": 2
}
