{
 "cells": [
  {
   "attachments": {},
   "cell_type": "markdown",
   "metadata": {},
   "source": [
    "# AlexNet and ResNet-56 on CIFAR10 (Knowledge Distillation)"
   ]
  },
  {
   "cell_type": "markdown",
   "metadata": {},
   "source": [
    "### Imports and Setup"
   ]
  },
  {
   "cell_type": "code",
   "execution_count": 1,
   "metadata": {},
   "outputs": [],
   "source": [
    "# PyTorch and Models\n",
    "import torch\n",
    "import torch.nn as nn\n",
    "import torch.optim as optim\n",
    "from torch.optim.lr_scheduler import MultiStepLR\n",
    "from architectures.AlexNet import AlexNet\n",
    "from architectures.ResNet56 import resnet56\n",
    "import numpy as np\n",
    "\n",
    "# Helper functions\n",
    "import datasets.datasets as datasets\n",
    "from util.common import *\n",
    "from util.trainer import distillation_training\n",
    "\n",
    "import matplotlib.pyplot as plt"
   ]
  },
  {
   "cell_type": "code",
   "execution_count": 2,
   "metadata": {},
   "outputs": [],
   "source": [
    "# Make PyTorch deterministic\n",
    "torch.manual_seed(0)\n",
    "torch.backends.cudnn.benchmark = False\n",
    "torch.backends.cudnn.deterministic = True\n",
    "\n",
    "# Set device\n",
    "device = torch.device('cuda' if torch.cuda.is_available() else 'cpu')"
   ]
  },
  {
   "cell_type": "markdown",
   "metadata": {},
   "source": [
    "### Load Data, Training and Test Sets"
   ]
  },
  {
   "cell_type": "code",
   "execution_count": 3,
   "metadata": {},
   "outputs": [
    {
     "name": "stdout",
     "output_type": "stream",
     "text": [
      "Files already downloaded and verified\n",
      "Files already downloaded and verified\n"
     ]
    }
   ],
   "source": [
    "#Loading dataset into training and test data\n",
    "training_loader = datasets.cifar10_training_loader()\n",
    "test_loader = datasets.cifar10_test_loader()"
   ]
  },
  {
   "cell_type": "code",
   "execution_count": 5,
   "metadata": {},
   "outputs": [],
   "source": [
    "# Define different temperatures and label smoothing factors\n",
    "smoothing_factors_student = [0, 0.15, 0.3, 0.45, 0.6, 0.75]\n",
    "smoothing_factors_teacher = [0, 0.15, 0.3, 0.45, 0.6, 0.75]\n",
    "temperatures_teacher = [1.0, 2.0, 4.0, 8.0, 12.0, 16.0]"
   ]
  },
  {
   "cell_type": "markdown",
   "metadata": {},
   "source": [
    "### Distillation training loop"
   ]
  },
  {
   "cell_type": "code",
   "execution_count": 6,
   "metadata": {},
   "outputs": [],
   "source": [
    "def train_distillation(alexnet, resnet, device, training_loader, temperature, epochs):\n",
    "    cross_entropy = nn.CrossEntropyLoss()\n",
    "    train_loss = lambda outputs, labels, pred: 3*cross_entropy(outputs, pred) + 4e-2 * (torch.norm(list(alexnet.classifier.parameters())[2]) + torch.norm(list(alexnet.classifier.parameters())[0]))\n",
    "    \n",
    "    opt = optim.SGD(params= alexnet.parameters(), lr=0.1)\n",
    "\n",
    "    scheduler = MultiStepLR(opt, [415, 830], 0.1)\n",
    "    \n",
    "    distillation_training(resnet, alexnet, device, training_loader, test_loader, epochs, train_loss, opt, scheduler, temperature)"
   ]
  },
  {
   "attachments": {},
   "cell_type": "markdown",
   "metadata": {},
   "source": [
    "### Training Student with Label Smoothing without Distillation"
   ]
  },
  {
   "cell_type": "code",
   "execution_count": null,
   "metadata": {},
   "outputs": [],
   "source": [
    "for j, elem in enumerate(smoothing_factors_student):\n",
    "    model = AlexNet(num_classes=10)\n",
    "    model.train_model(device, training_loader, test_loader, elem, NUM_EPOCHS_ALEXNET)\n",
    "    torch.save(model.state_dict(), f\"models/ResNet56_AlexNet_CIFAR10_Distillation/AlexNet_Student_Smoothing_{j}.pt\")"
   ]
  },
  {
   "attachments": {},
   "cell_type": "markdown",
   "metadata": {},
   "source": [
    "### Training Teacher with Label Smoothing"
   ]
  },
  {
   "cell_type": "code",
   "execution_count": null,
   "metadata": {},
   "outputs": [],
   "source": [
    "model = resnet56(num_classes=10)\n",
    "model.train_model(device, training_loader, test_loader, smoothing_factors_teacher[0], NUM_EPOCHS_RESNET_56)\n",
    "torch.save(model.state_dict(), f\"models/ResNet56_AlexNet_CIFAR10_Distillation/ResNet_Teacher_Smoothing_0.pt\")\n",
    "torch.save(model.state_dict(), \"models/ResNet56_CIFAR10_Accuracy_IMC/ResNet_Hard_Labels_CIFAR10.pt\")\n",
    "\n",
    "\n",
    "model = resnet56(num_classes=10)\n",
    "model.train_model(device, training_loader, test_loader, smoothing_factors_teacher[1], NUM_EPOCHS_RESNET_56)\n",
    "torch.save(model.state_dict(), f\"models/ResNet56_AlexNet_CIFAR10_Distillation/ResNet_Teacher_Smoothing_1.pt\")\n",
    "torch.save(model.state_dict(), \"models/ResNet56_CIFAR10_Accuracy_IMC/ResNet_Smooth_Labels_015_CIFAR10.pt\")\n",
    "\n",
    "model = resnet56(num_classes=10)\n",
    "model.train_model(device, training_loader, test_loader, smoothing_factors_teacher[2], NUM_EPOCHS_RESNET_56)\n",
    "torch.save(model.state_dict(), f\"models/ResNet56_AlexNet_CIFAR10_Distillation/ResNet_Teacher_Smoothing_2.pt\")\n",
    "torch.save(model.state_dict(), \"models/ResNet56_CIFAR10_Accuracy_IMC/ResNet_Smooth_Labels_03_CIFAR10.pt\")\n",
    "\n",
    "for j, elem in enumerate(smoothing_factors_teacher[3:]):\n",
    "    model = resnet56(num_classes=10)\n",
    "    model.train_model(device, training_loader, test_loader, elem, NUM_EPOCHS_RESNET_56)\n",
    "    torch.save(model.state_dict(), f\"models/ResNet56_AlexNet_CIFAR10_Distillation/ResNet_Teacher_Smoothing_{j}.pt\")"
   ]
  },
  {
   "attachments": {},
   "cell_type": "markdown",
   "metadata": {},
   "source": [
    "### Training Student with Distillation (Temperature-scaled Teacher)"
   ]
  },
  {
   "cell_type": "code",
   "execution_count": null,
   "metadata": {},
   "outputs": [],
   "source": [
    "for j, elem in enumerate(temperatures_teacher):\n",
    "    model = resnet56(num_classes=10)\n",
    "    model.load_state_dict(torch.load(f\"models/ResNet56_AlexNet_CIFAR10_Distillation/ResNet_Teacher_Smoothing_0.pt\",map_location=device))\n",
    "    model2 = AlexNet(num_classes=10)\n",
    "    \n",
    "    train_distillation(model2, model, device, training_loader, elem, NUM_EPOCHS_ALEXNET)\n",
    "    torch.save(model2.state_dict(), f\"models/ResNet56_AlexNet_CIFAR10_Distillation/AlexNet_Distillation_Temperature_{j}.pt\")"
   ]
  },
  {
   "attachments": {},
   "cell_type": "markdown",
   "metadata": {},
   "source": [
    "### Training Student with Distillation (Label-smoothed Teacher)"
   ]
  },
  {
   "cell_type": "code",
   "execution_count": null,
   "metadata": {},
   "outputs": [],
   "source": [
    "for j, elem in enumerate(smoothing_factors_teacher):\n",
    "    model = resnet56(num_classes=10)\n",
    "    model.load_state_dict(torch.load(f\"models/ResNet56_AlexNet_CIFAR10_Distillation/ResNet_Teacher_Smoothing_{j}.pt\",map_location=device))\n",
    "    model2 = AlexNet(num_classes=10)\n",
    "    \n",
    "    train_distillation(model2, model, device, training_loader, 1, NUM_EPOCHS_ALEXNET)\n",
    "    torch.save(model2.state_dict(), f\"models/ResNet56_AlexNet_CIFAR10_Distillation/AlexNet_Distillation_Smoothing_{j}.pt\")"
   ]
  },
  {
   "cell_type": "markdown",
   "metadata": {},
   "source": [
    "## Visualize the results in plot"
   ]
  },
  {
   "cell_type": "code",
   "execution_count": 6,
   "metadata": {},
   "outputs": [],
   "source": [
    "student = []\n",
    "for j, elem in enumerate(smoothing_factors_student):\n",
    "    model = AlexNet(num_classes=10)\n",
    "    model.load_state_dict(torch.load(f\"models/ResNet56_AlexNet_CIFAR10_Distillation/AlexNet_Student_Smoothing_{j}.pt\", map_location=device))\n",
    "    model.to(device)\n",
    "    student.append([elem, compute_accuracy(model, test_loader, device).cpu()])"
   ]
  },
  {
   "cell_type": "code",
   "execution_count": 7,
   "metadata": {},
   "outputs": [],
   "source": [
    "teacher = []\n",
    "for j, elem in enumerate(smoothing_factors_teacher):\n",
    "    model = resnet56(num_classes=10)\n",
    "    model.load_state_dict(torch.load(f\"models/ResNet56_AlexNet_CIFAR10_Distillation/ResNet_Teacher_Smoothing_{j}.pt\", map_location=device))\n",
    "    model.to(device)\n",
    "    teacher.append([elem, compute_accuracy(model, test_loader, device).cpu()])"
   ]
  },
  {
   "cell_type": "code",
   "execution_count": 8,
   "metadata": {},
   "outputs": [],
   "source": [
    "distillation_temperature = []\n",
    "for j, elem in enumerate(temperatures_teacher):\n",
    "    model = AlexNet(num_classes=10)\n",
    "    model.load_state_dict(torch.load(f\"models/ResNet56_AlexNet_CIFAR10_Distillation/AlexNet_Distillation_Temperature_{j}.pt\", map_location=device))\n",
    "    model.to(device)\n",
    "    \n",
    "    model2 = resnet56(num_classes=10)\n",
    "    model2.load_state_dict(torch.load(f\"models/ResNet56_AlexNet_CIFAR10_Distillation/ResNet_Teacher_Smoothing_0.pt\", map_location=device))\n",
    "    model2.to(device)\n",
    "    \n",
    "    distillation_temperature.append([calculate_gamma(model2, training_loader, device, elem).cpu(), compute_accuracy(model, test_loader, device).cpu()])"
   ]
  },
  {
   "cell_type": "code",
   "execution_count": 9,
   "metadata": {},
   "outputs": [],
   "source": [
    "distillation_smoothing = []\n",
    "for j, elem in enumerate(smoothing_factors_teacher):\n",
    "    model = AlexNet(num_classes=10)\n",
    "    model.load_state_dict(torch.load(f\"models/ResNet56_AlexNet_CIFAR10_Distillation/AlexNet_Distillation_Smoothing_{j}.pt\", map_location=device))\n",
    "    model.to(device)\n",
    "    \n",
    "    model2 = resnet56(num_classes=10)\n",
    "    model2.load_state_dict(torch.load(f\"models/ResNet56_AlexNet_CIFAR10_Distillation/ResNet_Teacher_Smoothing_{j}.pt\", map_location=device))\n",
    "    model2.to(device)\n",
    "    \n",
    "    distillation_smoothing.append([calculate_gamma(model2, training_loader, device, 1).cpu(), compute_accuracy(model, test_loader, device).cpu()])"
   ]
  },
  {
   "cell_type": "code",
   "execution_count": 10,
   "metadata": {},
   "outputs": [
    {
     "data": {
      "image/png": "[encoded data removed]",
      "text/plain": [
       "<Figure size 800x450 with 2 Axes>"
      ]
     },
     "metadata": {},
     "output_type": "display_data"
    }
   ],
   "source": [
    "# Plot the accuracies\n",
    "teacher = np.array(teacher)\n",
    "student = np.array(student)\n",
    "distillation_temperature = np.array(distillation_temperature)\n",
    "distillation_smoothing = np.array(distillation_smoothing)\n",
    "\n",
    "plt.rcParams['text.usetex'] = True\n",
    "plt.rcParams[\"font.family\"] = \"Helvetica\"\n",
    "plt.rcParams[\"font.size\"] = 13\n",
    "\n",
    "fig, axs = plt.subplots(2,1,figsize=(8,4.5), gridspec_kw={'height_ratios': [1, 2]})\n",
    "\n",
    "plt.setp(axs[0], xticklabels=[])\n",
    "\n",
    "axs[0].plot(teacher[:,0], teacher[:,1], \"-\", label=r'$(M1)$ Teacher', color='#0000ff')\n",
    "axs[0].set_xlim([0,0.65])\n",
    "axs[0].set_ylim([92.5, 94])\n",
    "axs[0].set_ylabel(\"Accuracy [\\%]\")\n",
    "axs[0].legend()\n",
    "\n",
    "axs[1].plot(student[:,0], student[:,1], \"-\", label=r'$(M2)$ Student baseline', color='#64b5cd')\n",
    "axs[1].plot(distillation_temperature[:,0], distillation_temperature[:,1], \"--\", label=r'$(M3)$ Distillation w/ TS teacher', color='#d46d6f')\n",
    "plt.plot(distillation_smoothing[:,0], distillation_smoothing[:,1], \"--\", label=r'$(M4)$ Distillation w/ LS teacher', color='#4f74b2')\n",
    "axs[1].set_xlim([0,0.65])\n",
    "axs[1].set_ylim([83, 90])\n",
    "axs[1].set_ylabel(\"Accuracy [\\%]\")\n",
    "axs[1].set_xlabel(r\"Equivalent label smoothing ($\\gamma$)\")\n",
    "axs[1].legend()\n",
    "plt.show()"
   ]
  },
  {
   "cell_type": "code",
   "execution_count": 11,
   "metadata": {},
   "outputs": [],
   "source": [
    "fig.savefig(format=\"pdf\", fname=\"figures/resnet56_knowledge_distillation.pdf\",bbox_inches='tight')"
   ]
  }
 ],
 "metadata": {
  "kernelspec": {
   "display_name": "Python 3 (ipykernel)",
   "language": "python",
   "name": "python3"
  },
  "language_info": {
   "codemirror_mode": {
    "name": "ipython",
    "version": 3
   },
   "file_extension": ".py",
   "mimetype": "text/x-python",
   "name": "python",
   "nbconvert_exporter": "python",
   "pygments_lexer": "ipython3",
   "version": "3.11.5"
  }
 },
 "nbformat": 4,
 "nbformat_minor": 4
}
